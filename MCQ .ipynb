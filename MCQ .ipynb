{
 "cells": [
  {
   "cell_type": "markdown",
   "id": "b86c486e",
   "metadata": {},
   "source": [
    "# MCQ Quiz"
   ]
  },
  {
   "cell_type": "code",
   "execution_count": 5,
   "id": "f0147cb1",
   "metadata": {},
   "outputs": [
    {
     "name": "stdout",
     "output_type": "stream",
     "text": [
      "Number of Continents on Earth\n",
      "1:Seven 2:Four 3:Five 4:Six\n",
      "\n",
      "\n",
      "Enter the option between 1 and 4:1\n",
      "Correct answer.\n",
      "Which country successfully landed a man on moon\n",
      "1:USA 2:Germany 3:France 4:England\n",
      "\n",
      "\n",
      "Enter the option between 1 and 4:1\n",
      "Correct answer.\n",
      "Which country is not present in the continent of North America\n",
      "1:Mexico 2:USA 3:Cannada 4:Brazil\n",
      "\n",
      "\n",
      "Enter the option between 1 and 4:4\n",
      "Correct answer.\n",
      "Which is the American National Bird\n",
      "1:Parrot 2:Crane 3:Eagle 4:Swan\n",
      "\n",
      "\n",
      "Enter the option between 1 and 4:3\n",
      "Correct answer.\n",
      "Which country shares the longest border with USA\n",
      "1:Mexico 2:Brazil 3:Cannada 4:Argentina\n",
      "\n",
      "\n",
      "Enter the option between 1 and 4:2\n",
      "Incorrect answer\n",
      "Which is the financial capital of USA\n",
      "1:Sanfrancisco 2:Boston 3:Los Angeles 4:NYC\n",
      "\n",
      "\n",
      "Enter the option between 1 and 4:4\n",
      "Correct answer.\n",
      "Which of the following space agencies belongs to the USA\n",
      "1:BNSC 2:ISRO 3:DLR 4:NASA\n",
      "\n",
      "\n",
      "Enter the option between 1 and 4:4\n",
      "Correct answer.\n",
      "Which is the second most spoken language in USA\n",
      "1:English 2:Spanish 3:Mandarin 4:Italian\n",
      "\n",
      "\n",
      "Enter the option between 1 and 4:3\n",
      "Incorrect answer\n",
      "Which is the capital city of USA\n",
      "1:NYC 2:Washington DC 3:Austin 4:San Jose\n",
      "\n",
      "\n",
      "Enter the option between 1 and 4:2\n",
      "Correct answer.\n",
      "Mt Rushmore has the sclupture of\n",
      "1:Former US Presidents 2:Hollywood stars 3:Military Personel 4:Scientists\n",
      "\n",
      "\n",
      "Enter the option between 1 and 4:2\n",
      "Incorrect answer\n",
      "Total marks for correct answers:  14\n"
     ]
    }
   ],
   "source": [
    "Q={\"Number of Continents on Earth\":\"1:Seven 2:Four 3:Five 4:Six\", \n",
    "   \"Which country successfully landed a man on moon\":\"1:USA 2:Germany 3:France 4:England\",\n",
    "   \"Which country is not present in the continent of North America\":\"1:Mexico 2:USA 3:Cannada 4:Brazil\",\n",
    "   \"Which is the American National Bird\":\"1:Parrot 2:Crane 3:Eagle 4:Swan\",\n",
    "   \"Which country shares the longest border with USA\":\"1:Mexico 2:Brazil 3:Cannada 4:Argentina\",\n",
    "   \"Which is the financial capital of USA\":\"1:Sanfrancisco 2:Boston 3:Los Angeles 4:NYC\",\n",
    "   \"Which of the following space agencies belongs to the USA\":\"1:BNSC 2:ISRO 3:DLR 4:NASA\",\n",
    "   \"Which is the second most spoken language in USA\":\"1:English 2:Spanish 3:Mandarin 4:Italian\",\n",
    "   \"Which is the capital city of USA\": \"1:NYC 2:Washington DC 3:Austin 4:San Jose\",\n",
    "   \"Mt Rushmore has the sclupture of\": \"1:Former US Presidents 2:Hollywood stars 3:Military Personel 4:Scientists\"}\n",
    "\n",
    "A= list(Q.values()) # Taking all the values from the dictionary Q and converting them into a list of values.\n",
    "CA = [1,1,4,3,3,4,4,2,2,1] # List of correct options \n",
    "myit = iter(A)   #Iteration\n",
    "\n",
    "total_marks= 0           #Assigning the marks value as 0 at starting.\n",
    "\n",
    "for i in Q:\n",
    "    print(i)\n",
    "    a=next(myit)\n",
    "    print(a)\n",
    "    print(\"\\n\")\n",
    "    ans = int(input(\"Enter the option between 1 and 4:\"))\n",
    "\n",
    "    ques = list(Q.keys()).index(i)  #converts the keys of dictionary Q into a list and then\n",
    "                                                  # finds the index of the element 'i' within that list\n",
    "   \n",
    "    correct_ans = CA[list(Q.keys()).index(i)]  # Get the correct answer for this question\n",
    "    if ans == correct_ans:\n",
    "        print(\"Correct answer.\")\n",
    "        total_marks += 2  # Increment total marks by 2 for each correct answer\n",
    "    else:\n",
    "        print(\"Incorrect answer\")\n",
    "print(\"Total marks for correct answers: \", total_marks)"
   ]
  },
  {
   "cell_type": "markdown",
   "id": "fa7f6f8a",
   "metadata": {},
   "source": [
    "Conclusion - From this code we can find the sum of marks for the correct chiose of answers..each correct answer carries 2 marks."
   ]
  }
 ],
 "metadata": {
  "kernelspec": {
   "display_name": "Python 3 (ipykernel)",
   "language": "python",
   "name": "python3"
  },
  "language_info": {
   "codemirror_mode": {
    "name": "ipython",
    "version": 3
   },
   "file_extension": ".py",
   "mimetype": "text/x-python",
   "name": "python",
   "nbconvert_exporter": "python",
   "pygments_lexer": "ipython3",
   "version": "3.11.3"
  }
 },
 "nbformat": 4,
 "nbformat_minor": 5
}
