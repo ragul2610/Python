{
 "cells": [
  {
   "cell_type": "markdown",
   "id": "5babb2a7",
   "metadata": {},
   "source": [
    "# Developing a rock,papers and scissors game"
   ]
  },
  {
   "cell_type": "markdown",
   "id": "acb97ae5",
   "metadata": {},
   "source": [
    "## Task 1 - Accept an integer between 1900 and 2100 from the user. Display wheather the integer is a Leap year or not. The program shoul display an error if the integer entered lies outside the specified range."
   ]
  },
  {
   "cell_type": "code",
   "execution_count": 22,
   "id": "0ae8be85",
   "metadata": {},
   "outputs": [
    {
     "name": "stdout",
     "output_type": "stream",
     "text": [
      "enter a year: 2001\n",
      "Not a leap year\n"
     ]
    }
   ],
   "source": [
    "a=int(input(\"enter a year: \"))\n",
    "if 1900 <= a <= 2100 and (a%4==0):\n",
    "    print(\"Leap year\")\n",
    "\n",
    "elif 1900 <= a <= 2100 and (a%4!=0):\n",
    "    print(\"Not a leap year\")\n",
    "else:\n",
    "    print(\"error\")"
   ]
  },
  {
   "cell_type": "markdown",
   "id": "c0a4f500",
   "metadata": {},
   "source": [
    "Conclusion - The above program is to find whether the displayed year is a leap year or not a leap year."
   ]
  },
  {
   "cell_type": "markdown",
   "id": "8996ed54",
   "metadata": {},
   "source": [
    "## Task 2 - Accept an integer between 1 to 12 .Write a python  program to display the name of the month and the number of days in the month.The program must diplay an error for anyother number entered outside the range "
   ]
  },
  {
   "cell_type": "code",
   "execution_count": 32,
   "id": "622f5ad0",
   "metadata": {},
   "outputs": [
    {
     "name": "stdout",
     "output_type": "stream",
     "text": [
      "enter the number : 10\n",
      "October : 31 days\n"
     ]
    }
   ],
   "source": [
    "a=int(input(\"enter the number : \"))\n",
    "if a==1:\n",
    "    print(\"January : 31 days\")\n",
    "elif a==2:\n",
    "    print(\"February : 28 days\")\n",
    "elif a==3:\n",
    "    print(\"March : 31 days\")\n",
    "elif a==4:\n",
    "    print(\"April : 30 days\")\n",
    "elif a==5:\n",
    "    print(\"May : 31 days\")\n",
    "elif a==6:\n",
    "    print(\"June : 30 days\")\n",
    "elif a==7:\n",
    "    print(\"July : 31 days\")\n",
    "elif a==8:\n",
    "    print(\"August : 31 days\")\n",
    "elif a==9:\n",
    "    print(\"September : 30 days\")\n",
    "elif a==10:\n",
    "    print(\"October : 31 days\")\n",
    "elif a==11:\n",
    "    print(\"November : 30 days\")\n",
    "elif a==12:\n",
    "    print(\"December : 31 days\")\n",
    "else:\n",
    "    print(\"error\")"
   ]
  },
  {
   "cell_type": "markdown",
   "id": "57941900",
   "metadata": {},
   "source": [
    "Conclusion - The above program displays the month of the integer typed and it shows the number of days in that month"
   ]
  },
  {
   "cell_type": "markdown",
   "id": "f2f0e993",
   "metadata": {},
   "source": [
    "## Task 3 - Accept the total bill amount from users.Calculate the discount if any and diplay the total bill,the bill calculated and the bill amount after deducting the discount"
   ]
  },
  {
   "cell_type": "code",
   "execution_count": 6,
   "id": "99780231",
   "metadata": {},
   "outputs": [
    {
     "name": "stdout",
     "output_type": "stream",
     "text": [
      "enter the amount : 155\n",
      "155 10.100000000000001 144.9\n"
     ]
    }
   ],
   "source": [
    "bill_amount=int(input(\"enter the amount : \"))\n",
    "if bill_amount < 100:\n",
    "    discount=0*bill_amount\n",
    "    total_amount=bill_amount-discount\n",
    "elif 100<=bill_amount<=150:\n",
    "    discount=0.1*bill_amount\n",
    "    total_amount=bill_amount-discount\n",
    "elif 150<bill_amount<=250:\n",
    "    dicount=0.15*bill_amount\n",
    "    total_amount=bill_amount-discount\n",
    "else:\n",
    "    dicount=0.25*bill_amount\n",
    "    total_amount=bill_amount-discount\n",
    "    \n",
    "print(bill_amount,discount,total_amount)"
   ]
  },
  {
   "cell_type": "markdown",
   "id": "5ffd8f70",
   "metadata": {},
   "source": [
    "Conclusion - The above program displays the bill amount ,the dicount offer for the bill amount and the bill amount after the deduction of the discount"
   ]
  },
  {
   "cell_type": "markdown",
   "id": "bc50ef66",
   "metadata": {},
   "source": [
    "## Task 4 - Make rules for the game rock,paper and scissors."
   ]
  },
  {
   "cell_type": "code",
   "execution_count": 4,
   "id": "6122d0eb",
   "metadata": {},
   "outputs": [
    {
     "name": "stdout",
     "output_type": "stream",
     "text": [
      "rock,paper or scissor : rock\n",
      "rock,paper or scissor : rock\n",
      "draw\n"
     ]
    }
   ],
   "source": [
    "user_1=input(\"rock,paper or scissor : \")\n",
    "user_2=input(\"rock,paper or scissor : \")\n",
    "if user_1==\"rock\" and user_2==\"scissor\":\n",
    "    print(\"the winner is\",user_1)\n",
    "elif user_1==\"paper\" and user_2==\"scissor\":\n",
    "    print(\"the winner is\",user_2)\n",
    "elif user_1==\"rock\" and user_2==\"paper\":\n",
    "    print(\"the winner is\",user_1)\n",
    "elif user_1==\"paper\" and user_2==\"scissor\":\n",
    "    print(\"the winner is\",user_2)\n",
    "elif user_1==\"paper\" and user_2==\"rock\":\n",
    "    print(\"the winner is\",user_1)\n",
    "elif user_1==\"scissor\" and user_2==\"rock\":\n",
    "    print(\"the winner is\",user_2)\n",
    "elif user_1==\"scissor\" and user_2==\"paper\":\n",
    "    print(\"the winner is\",user_1)\n",
    "elif user_1==\"paper\" and user_2==\"paper\":\n",
    "    print(\"draw\")\n",
    "elif user_1==\"scissor\" and user_2==\"scissor\":\n",
    "    print(\"draw\")\n",
    "elif user_1==\"rock\" and user_2==\"rock\":\n",
    "    print(\"draw\")\n",
    "else:\n",
    "    print(\"error\")"
   ]
  },
  {
   "cell_type": "markdown",
   "id": "04c392a1",
   "metadata": {},
   "source": [
    "Conclusion - The above program is for the rock,paper and scissors game."
   ]
  }
 ],
 "metadata": {
  "kernelspec": {
   "display_name": "Python 3 (ipykernel)",
   "language": "python",
   "name": "python3"
  },
  "language_info": {
   "codemirror_mode": {
    "name": "ipython",
    "version": 3
   },
   "file_extension": ".py",
   "mimetype": "text/x-python",
   "name": "python",
   "nbconvert_exporter": "python",
   "pygments_lexer": "ipython3",
   "version": "3.11.3"
  }
 },
 "nbformat": 4,
 "nbformat_minor": 5
}
