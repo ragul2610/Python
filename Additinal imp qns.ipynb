{
 "cells": [
  {
   "cell_type": "markdown",
   "id": "0c3f6feb",
   "metadata": {},
   "source": [
    "# Task 1 - Checking if a word is palindrome"
   ]
  },
  {
   "cell_type": "code",
   "execution_count": 2,
   "id": "ffc4852e",
   "metadata": {},
   "outputs": [
    {
     "name": "stdout",
     "output_type": "stream",
     "text": [
      "Enter a string: mom\n",
      "It's a palindrome!\n"
     ]
    }
   ],
   "source": [
    "def is_palindrome(s):\n",
    "    return s == s[::-1]         # Compare the string with its reverse\n",
    "\n",
    "word = input(\"Enter a word: \")\n",
    "\n",
    "if is_palindrome(word):\n",
    "    print(\"It's a palindrome!\")\n",
    "else:\n",
    "    print(\"It's not a palindrome.\")"
   ]
  },
  {
   "cell_type": "markdown",
   "id": "f1baaaa7",
   "metadata": {},
   "source": [
    "Conclusion - The above program is for finding whether the given word is a palidrome or not"
   ]
  },
  {
   "cell_type": "markdown",
   "id": "d8a1c405",
   "metadata": {},
   "source": [
    "# Task 2 - Sorting words"
   ]
  },
  {
   "cell_type": "code",
   "execution_count": 7,
   "id": "2e8f0623",
   "metadata": {},
   "outputs": [
    {
     "name": "stdout",
     "output_type": "stream",
     "text": [
      "Enter the strings : Zebra Cat Ant\n",
      "['Ant', 'Cat', 'Zebra']\n"
     ]
    }
   ],
   "source": [
    "def sort():\n",
    "    words=input(\"Enter the strings : \").split()\n",
    "    words.sort()   \n",
    "    print(words)\n",
    "sort()        "
   ]
  },
  {
   "cell_type": "markdown",
   "id": "68b52dbe",
   "metadata": {},
   "source": [
    "Conclusion - The strings are arranged on ascending order."
   ]
  },
  {
   "cell_type": "markdown",
   "id": "8af5b07b",
   "metadata": {},
   "source": [
    "# Task 3 - Converting characters to string"
   ]
  },
  {
   "cell_type": "code",
   "execution_count": 10,
   "id": "0b1ea61a",
   "metadata": {},
   "outputs": [
    {
     "name": "stdout",
     "output_type": "stream",
     "text": [
      "Enter the letters : I,t,a,c,h,i\n",
      "Itachi\n"
     ]
    }
   ],
   "source": [
    "def string():\n",
    "    char_list = input(\"Enter the letters : \").split(',')\n",
    "    final_string = ''.join(char_list)\n",
    "    print(final_string)\n",
    "\n",
    "string()"
   ]
  },
  {
   "cell_type": "markdown",
   "id": "e0e33951",
   "metadata": {},
   "source": [
    "Conclusion - String of letters are combined as a word"
   ]
  },
  {
   "cell_type": "markdown",
   "id": "a59fcd86",
   "metadata": {},
   "source": [
    "# Task 4 - Picking the largest and smallest"
   ]
  },
  {
   "cell_type": "code",
   "execution_count": 14,
   "id": "65874f9f",
   "metadata": {},
   "outputs": [
    {
     "name": "stdout",
     "output_type": "stream",
     "text": [
      "Enter the numbers : 3 4 1 0 -31 -54 40 20\n",
      "Minimum =  -54 \n",
      "Maximum =  40\n"
     ]
    }
   ],
   "source": [
    "def min_max():\n",
    "    data=[int(x) for x in input(\"Enter the numbers : \").split()]\n",
    "    maximum = max(data)\n",
    "    mininum = min(data)\n",
    "    print(\"Minimum = \",mininum,\"\\nMaximum = \",maximum)\n",
    "\n",
    "min_max()    "
   ]
  },
  {
   "cell_type": "markdown",
   "id": "f39d40a4",
   "metadata": {},
   "source": [
    "Conclusion - Found the largest and smallest number from the numbers of users choice "
   ]
  },
  {
   "cell_type": "markdown",
   "id": "f171aad6",
   "metadata": {},
   "source": [
    "# Task 5 - Searching a dictionary"
   ]
  },
  {
   "cell_type": "code",
   "execution_count": 2,
   "id": "6928f6a0",
   "metadata": {},
   "outputs": [
    {
     "name": "stdout",
     "output_type": "stream",
     "text": [
      "Enter item name :Item1\n",
      "Enter the value :45.50\n",
      "Enter item name :Item2\n",
      "Enter the value :35\n",
      "Enter item name :Item3\n",
      "Enter the value :41.30\n",
      "Enter item name :Item4\n",
      "Enter the value :29\n",
      "Enter item name :Item5\n",
      "Enter the value :49.89\n",
      "Enter item name :quit\n",
      "Max : 49.89 \n",
      "Min : 29.0\n"
     ]
    }
   ],
   "source": [
    "def dict():\n",
    "    items= {}\n",
    "    while True:\n",
    "        key=input(\"Enter item name :\")\n",
    "        if key.lower() == 'quit':\n",
    "            break\n",
    "        value=float(input(\"Enter the value :\"))\n",
    "        items[key]=value\n",
    "    maximum = max(items.values())\n",
    "    minimum = min(items.values())\n",
    "    \n",
    "    print(\"Max :\",maximum,\"\\nMin :\",minimum)\n",
    "    \n",
    "dict()"
   ]
  },
  {
   "cell_type": "markdown",
   "id": "23b0dd17",
   "metadata": {},
   "source": [
    "Conclusion - Found the largest and smallest number from the dictionary of users choice "
   ]
  },
  {
   "cell_type": "markdown",
   "id": "53e0d0a0",
   "metadata": {},
   "source": [
    "# Task 6 - Generating a profile card"
   ]
  },
  {
   "cell_type": "code",
   "execution_count": 6,
   "id": "1b2afe6d",
   "metadata": {},
   "outputs": [
    {
     "name": "stdout",
     "output_type": "stream",
     "text": [
      "Enter your name : Ragul\n",
      "Enter your age : 23\n",
      "Enter your gender : Male\n",
      "enter your occupation : Data Analyst\n",
      "Name : Ragul \n",
      "Age : 23 \n",
      "Gender : Male \n",
      "Occupation : Data Analyst\n"
     ]
    }
   ],
   "source": [
    "def profile_details():\n",
    "    name=input(\"Enter your name : \")\n",
    "    age=input(\"Enter your age : \")\n",
    "    gender=input(\"Enter your gender : \")\n",
    "    occupation=input(\"enter your occupation : \")\n",
    "    \n",
    "    def profile_card():\n",
    "        print(\"Name :\",name,\"\\nAge :\",age,\"\\nGender :\",gender,\"\\nOccupation :\",occupation)\n",
    "        \n",
    "    profile_card()\n",
    "        \n",
    "profile_details()        "
   ]
  },
  {
   "cell_type": "markdown",
   "id": "aa2e3ef7",
   "metadata": {},
   "source": [
    "Conclusion - created two functions and printed the results of function 1 in function 2 "
   ]
  },
  {
   "cell_type": "markdown",
   "id": "7dbb2b2c",
   "metadata": {},
   "source": [
    "# Task 7 - Sorting colors frequency in tuples"
   ]
  },
  {
   "cell_type": "code",
   "execution_count": 7,
   "id": "672c07f3",
   "metadata": {},
   "outputs": [
    {
     "name": "stdout",
     "output_type": "stream",
     "text": [
      "[('green', 1), ('blue', 2), ('yellow', 3), ('black', 4), ('red', 5)]\n"
     ]
    }
   ],
   "source": [
    "color = [('black', 4) , ('green', 1) , ('red', 5) , ('blue',2) , ('yellow',3)]\n",
    "\n",
    "def sort_color():\n",
    "    colors_sorted = sorted(color,key=lambda x: x[1])\n",
    "    print(colors_sorted)\n",
    "    \n",
    "sort_color()    "
   ]
  },
  {
   "cell_type": "markdown",
   "id": "7ce377fa",
   "metadata": {},
   "source": [
    "Conclusion - Sorted the dictionary according to the values in the dictionary in ascending order"
   ]
  },
  {
   "cell_type": "markdown",
   "id": "15b0c8f7",
   "metadata": {},
   "source": [
    "# Task 8 - Common data in elements in two lists"
   ]
  },
  {
   "cell_type": "code",
   "execution_count": 8,
   "id": "380c78ea",
   "metadata": {},
   "outputs": [
    {
     "name": "stdout",
     "output_type": "stream",
     "text": [
      "['Mandy']\n"
     ]
    }
   ],
   "source": [
    "a = ['Andy', 'Mandy', 'Sandy']\n",
    "b = ['Handy', 'Buegundy', 'Mandy']\n",
    "\n",
    "common = list(filter(lambda x:x in b,a))\n",
    "print (common)"
   ]
  },
  {
   "cell_type": "markdown",
   "id": "44526fa9",
   "metadata": {},
   "source": [
    "Conclusion - Using lambda function , found the common string between two lists."
   ]
  },
  {
   "cell_type": "markdown",
   "id": "ee2f5822",
   "metadata": {},
   "source": [
    "# Task 9 - Map function with lambda...add c corresponding to d"
   ]
  },
  {
   "cell_type": "code",
   "execution_count": 9,
   "id": "63936c4c",
   "metadata": {},
   "outputs": [
    {
     "name": "stdout",
     "output_type": "stream",
     "text": [
      "[29, 30, 31]\n"
     ]
    }
   ],
   "source": [
    "c = [12, 14, 14]\n",
    "d = [17, 16, 17]\n",
    "\n",
    "result = list(map(lambda x,y:x +y , c, d))\n",
    "print(result)"
   ]
  },
  {
   "cell_type": "markdown",
   "id": "83796d46",
   "metadata": {},
   "source": [
    "Conclusion - Added the values in c corresoponding to the values in d and printed the result. "
   ]
  },
  {
   "cell_type": "markdown",
   "id": "8139d6c3",
   "metadata": {},
   "source": [
    "# Task 10 - Working with dates"
   ]
  },
  {
   "cell_type": "code",
   "execution_count": 10,
   "id": "03f7bd99",
   "metadata": {},
   "outputs": [
    {
     "name": "stdout",
     "output_type": "stream",
     "text": [
      "The age of the employee is above 18\n"
     ]
    }
   ],
   "source": [
    "def is_18_years(dob,doj):\n",
    "    dob_split = dob.split('-')\n",
    "    doj_split = doj.split('-')\n",
    "    \n",
    "    dob_year = int(dob_split[2])\n",
    "    doj_year = int(doj_split[2])\n",
    "    \n",
    "    return(doj_year - dob_year) >=18\n",
    "\n",
    "dob = \"12-25-1991\"\n",
    "doj = \"04-25-2020\"\n",
    "\n",
    "if is_18_years(dob,doj):\n",
    "    print(\"The age of the employee is above 18\")\n",
    "else:\n",
    "    print(\"The age of the employee is below 18\")"
   ]
  },
  {
   "cell_type": "markdown",
   "id": "eda05ae0",
   "metadata": {},
   "source": [
    "Conclusion - Splitted the dob and doj based on years and found the difference of it as less than 18 or greater than 18"
   ]
  },
  {
   "cell_type": "code",
   "execution_count": null,
   "id": "3ee6bdda",
   "metadata": {},
   "outputs": [],
   "source": []
  }
 ],
 "metadata": {
  "kernelspec": {
   "display_name": "Python 3 (ipykernel)",
   "language": "python",
   "name": "python3"
  },
  "language_info": {
   "codemirror_mode": {
    "name": "ipython",
    "version": 3
   },
   "file_extension": ".py",
   "mimetype": "text/x-python",
   "name": "python",
   "nbconvert_exporter": "python",
   "pygments_lexer": "ipython3",
   "version": "3.11.3"
  }
 },
 "nbformat": 4,
 "nbformat_minor": 5
}
