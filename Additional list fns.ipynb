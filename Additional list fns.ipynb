{
 "cells": [
  {
   "cell_type": "markdown",
   "id": "f0c78eba",
   "metadata": {},
   "source": [
    "# Spell Bee Competition"
   ]
  },
  {
   "cell_type": "markdown",
   "id": "fb093be8",
   "metadata": {},
   "source": [
    "## Task 1 - Adding 5 more students:"
   ]
  },
  {
   "cell_type": "code",
   "execution_count": 5,
   "id": "b7fec990",
   "metadata": {},
   "outputs": [],
   "source": [
    "data= [\"Mark Antony\",\"John Chan\",\"Bret Lee\",\"Jim Nick\",\"Janice Ken\",\"Florida Thomson\",\"Lily Jason\",\"Matt Antony\",\"Mark Thomas\",\n",
    "      \"Kenny Peterson\",\"Joe Cook\",\"Alexander Thomas\",\"Katy Perry\",\"Alexanderia Peterson\",\"Mark Antony\"]"
   ]
  },
  {
   "cell_type": "code",
   "execution_count": 7,
   "id": "19d0c8b9",
   "metadata": {},
   "outputs": [
    {
     "name": "stdout",
     "output_type": "stream",
     "text": [
      "enter the name : Itachi\n",
      "enter the name : Zoro\n",
      "enter the name : Luffy\n",
      "enter the name : Madara\n",
      "enter the name : Obito\n"
     ]
    }
   ],
   "source": [
    "for i in range(5):\n",
    "    names = input(\"enter the name : \")\n",
    "    data.append(names)"
   ]
  },
  {
   "cell_type": "code",
   "execution_count": 8,
   "id": "5c1fe3e2",
   "metadata": {},
   "outputs": [
    {
     "name": "stdout",
     "output_type": "stream",
     "text": [
      "['Mark Antony', 'John Chan', 'Bret Lee', 'Jim Nick', 'Janice Ken', 'Florida Thomson', 'Lily Jason', 'Matt Antony', 'Mark Thomas', 'Kenny Peterson', 'Joe Cook', 'Alexander Thomas', 'Katy Perry', 'Alexanderia Peterson', 'Mark Antony', '', '', '', '', '', 'Itachi', 'Zoro', 'Luffy', 'Madara', 'Obito'] "
     ]
    }
   ],
   "source": [
    "print(data,end=\" \")"
   ]
  },
  {
   "cell_type": "markdown",
   "id": "0291cf64",
   "metadata": {},
   "source": [
    "Conclusion - Appended 5 new names into the data and printed the data"
   ]
  },
  {
   "cell_type": "markdown",
   "id": "e2416734",
   "metadata": {},
   "source": [
    "## Task 2 - Check the names of the students who signed up later for the competition: "
   ]
  },
  {
   "cell_type": "code",
   "execution_count": 9,
   "id": "73a979bc",
   "metadata": {},
   "outputs": [
    {
     "name": "stdout",
     "output_type": "stream",
     "text": [
      "['Mark Antony', 'John Chan', 'Bret Lee', 'Jim Nick', 'Janice Ken', 'Florida Thomson', 'Lily Jason', 'Matt Antony', 'Mark Thomas', 'Kenny Peterson', 'Joe Cook', 'Alexander Thomas', 'Katy Perry', 'Alexanderia Peterson', 'Mark Antony', '', '', '', '', '', 'Itachi', 'Zoro', 'Luffy', 'Madara', 'Obito']\n"
     ]
    }
   ],
   "source": [
    "print(data)"
   ]
  },
  {
   "cell_type": "code",
   "execution_count": 12,
   "id": "787de57a",
   "metadata": {},
   "outputs": [
    {
     "name": "stdout",
     "output_type": "stream",
     "text": [
      "['Mark Antony', 'John Chan', 'Bret Lee', 'Jim Nick', 'Janice Ken', 'Florida Thomson', 'Lily Jason', 'Matt Antony', 'Mark Thomas', 'Kenny Peterson', 'Joe Cook', 'Alexander Thomas', 'Katy Perry', 'Alexanderia Peterson', 'Mark Antony', '', '', '', '', '', 'Itachi', 'Zoro', 'Luffy', 'Madara', 'Obito']\n"
     ]
    }
   ],
   "source": [
    "data.reverse()\n",
    "print(data)"
   ]
  },
  {
   "cell_type": "markdown",
   "id": "11dd6017",
   "metadata": {},
   "source": [
    "Conclusion - Using the reverse function printed the data in the reverse order with the newly added names in front"
   ]
  },
  {
   "cell_type": "markdown",
   "id": "e9afcfce",
   "metadata": {},
   "source": [
    "## Task 3 - Check the names of the students who signed up later for the competition without reverse function:"
   ]
  },
  {
   "cell_type": "code",
   "execution_count": 13,
   "id": "9e7654ce",
   "metadata": {},
   "outputs": [],
   "source": [
    "data = ['Mark Antony', 'John Chan', 'Bret Lee', 'Jim Nick', 'Janice Ken', 'Florida Thomson', 'Lily Jason', 'Matt Antony',\n",
    "        'Mark Thomas', 'Kenny Peterson','Joe Cook', 'Alexander Thomas', 'Katy Perry', 'Alexanderia Peterson', 'Mark Antony', \n",
    "        'Itachi','Zoro', 'Luffy', 'Madara', 'Obito']"
   ]
  },
  {
   "cell_type": "code",
   "execution_count": 14,
   "id": "4d7b5016",
   "metadata": {},
   "outputs": [
    {
     "name": "stdout",
     "output_type": "stream",
     "text": [
      "['Mark Antony', 'John Chan', 'Bret Lee', 'Jim Nick', 'Janice Ken', 'Florida Thomson', 'Lily Jason', 'Matt Antony', 'Mark Thomas', 'Kenny Peterson', 'Joe Cook', 'Alexander Thomas', 'Katy Perry', 'Alexanderia Peterson', 'Mark Antony', 'Itachi', 'Zoro', 'Luffy', 'Madara', 'Obito']\n"
     ]
    }
   ],
   "source": [
    "print(data)"
   ]
  },
  {
   "cell_type": "code",
   "execution_count": 15,
   "id": "8b1ad06c",
   "metadata": {},
   "outputs": [
    {
     "name": "stdout",
     "output_type": "stream",
     "text": [
      "['Itachi', 'Zoro', 'Luffy', 'Madara', 'Obito']\n"
     ]
    }
   ],
   "source": [
    "print(data[-5:])"
   ]
  },
  {
   "cell_type": "markdown",
   "id": "3e64078f",
   "metadata": {},
   "source": [
    "Conclusion - printed newly added names without reversal function"
   ]
  },
  {
   "cell_type": "markdown",
   "id": "1e9c5fc9",
   "metadata": {},
   "source": [
    "## Task 4 - Check any duplicates of names and create a new list that does not have repeated:"
   ]
  },
  {
   "cell_type": "code",
   "execution_count": 16,
   "id": "f3f8c0f9",
   "metadata": {},
   "outputs": [
    {
     "name": "stdout",
     "output_type": "stream",
     "text": [
      "['Mark Antony', 'John Chan', 'Bret Lee', 'Jim Nick', 'Janice Ken', 'Florida Thomson', 'Lily Jason', 'Matt Antony', 'Mark Thomas', 'Kenny Peterson', 'Joe Cook', 'Alexander Thomas', 'Katy Perry', 'Alexanderia Peterson', 'Mark Antony', 'Itachi', 'Zoro', 'Luffy', 'Madara', 'Obito'] "
     ]
    }
   ],
   "source": [
    "print(data,end=\" \")"
   ]
  },
  {
   "cell_type": "code",
   "execution_count": 17,
   "id": "2e317677",
   "metadata": {},
   "outputs": [],
   "source": [
    "final_list = ['Mark Antony','John Chan', 'Bret Lee', 'Jim Nick', 'Janice Ken', 'Florida Thomson',\n",
    "              'Lily Jason', 'Matt Antony', 'Mark Thomas', 'Kenny Peterson', 'Joe Cook', 'Alexander Thomas',\n",
    "              'Katy Perry', 'Alexanderia Peterson', 'Itachi', 'Zoro', 'Luffy', 'Madara', 'Obito'] "
   ]
  },
  {
   "cell_type": "code",
   "execution_count": 18,
   "id": "b9f41687",
   "metadata": {},
   "outputs": [
    {
     "name": "stdout",
     "output_type": "stream",
     "text": [
      "['Mark Antony', 'John Chan', 'Bret Lee', 'Jim Nick', 'Janice Ken', 'Florida Thomson', 'Lily Jason', 'Matt Antony', 'Mark Thomas', 'Kenny Peterson', 'Joe Cook', 'Alexander Thomas', 'Katy Perry', 'Alexanderia Peterson', 'Itachi', 'Zoro', 'Luffy', 'Madara', 'Obito'] "
     ]
    }
   ],
   "source": [
    "print(final_list, end = \" \")"
   ]
  },
  {
   "cell_type": "markdown",
   "id": "eca840b8",
   "metadata": {},
   "source": [
    "Conclusion - Taken out the duplicate and created a list final_list without duplicates"
   ]
  },
  {
   "cell_type": "markdown",
   "id": "fdee2b6b",
   "metadata": {},
   "source": [
    "# Task 5 - The names of students in final_list in alphabatical order"
   ]
  },
  {
   "cell_type": "code",
   "execution_count": 19,
   "id": "29b64822",
   "metadata": {},
   "outputs": [
    {
     "name": "stdout",
     "output_type": "stream",
     "text": [
      "['Mark Antony', 'John Chan', 'Bret Lee', 'Jim Nick', 'Janice Ken', 'Florida Thomson', 'Lily Jason', 'Matt Antony', 'Mark Thomas', 'Kenny Peterson', 'Joe Cook', 'Alexander Thomas', 'Katy Perry', 'Alexanderia Peterson', 'Itachi', 'Zoro', 'Luffy', 'Madara', 'Obito'] "
     ]
    }
   ],
   "source": [
    "print(final_list,end = \" \")"
   ]
  },
  {
   "cell_type": "code",
   "execution_count": 20,
   "id": "c654aea7",
   "metadata": {},
   "outputs": [
    {
     "name": "stdout",
     "output_type": "stream",
     "text": [
      "['Alexander Thomas', 'Alexanderia Peterson', 'Bret Lee', 'Florida Thomson', 'Itachi', 'Janice Ken', 'Jim Nick', 'Joe Cook', 'John Chan', 'Katy Perry', 'Kenny Peterson', 'Lily Jason', 'Luffy', 'Madara', 'Mark Antony', 'Mark Thomas', 'Matt Antony', 'Obito', 'Zoro']\n"
     ]
    }
   ],
   "source": [
    "print(sorted(final_list))"
   ]
  },
  {
   "cell_type": "markdown",
   "id": "79810bec",
   "metadata": {},
   "source": [
    "Conclusion - Listed the names in final_list in alphabatical-order"
   ]
  },
  {
   "cell_type": "markdown",
   "id": "4f3c029d",
   "metadata": {},
   "source": [
    "# Task 6 - 2nd , 12th and last position in final_list"
   ]
  },
  {
   "cell_type": "code",
   "execution_count": 21,
   "id": "ef487050",
   "metadata": {},
   "outputs": [],
   "source": [
    "final_list = ['Mark Antony','John Chan', 'Bret Lee', 'Jim Nick', 'Janice Ken', 'Florida Thomson',\n",
    "              'Lily Jason', 'Matt Antony', 'Mark Thomas', 'Kenny Peterson', 'Joe Cook', 'Alexander Thomas',\n",
    "              'Katy Perry', 'Alexanderia Peterson', 'Itachi', 'Zoro', 'Luffy', 'Madara', 'Obito'] "
   ]
  },
  {
   "cell_type": "code",
   "execution_count": 22,
   "id": "38a35065",
   "metadata": {},
   "outputs": [
    {
     "data": {
      "text/plain": [
       "19"
      ]
     },
     "execution_count": 22,
     "metadata": {},
     "output_type": "execute_result"
    }
   ],
   "source": [
    "len(final_list)"
   ]
  },
  {
   "cell_type": "code",
   "execution_count": 23,
   "id": "080ca650",
   "metadata": {},
   "outputs": [
    {
     "data": {
      "text/plain": [
       "'John Chan'"
      ]
     },
     "execution_count": 23,
     "metadata": {},
     "output_type": "execute_result"
    }
   ],
   "source": [
    "final_list[1]"
   ]
  },
  {
   "cell_type": "code",
   "execution_count": 24,
   "id": "0ed65745",
   "metadata": {},
   "outputs": [
    {
     "data": {
      "text/plain": [
       "'Alexander Thomas'"
      ]
     },
     "execution_count": 24,
     "metadata": {},
     "output_type": "execute_result"
    }
   ],
   "source": [
    "final_list[11]"
   ]
  },
  {
   "cell_type": "code",
   "execution_count": 25,
   "id": "637d21d4",
   "metadata": {},
   "outputs": [
    {
     "data": {
      "text/plain": [
       "'Obito'"
      ]
     },
     "execution_count": 25,
     "metadata": {},
     "output_type": "execute_result"
    }
   ],
   "source": [
    "final_list[-1]"
   ]
  },
  {
   "cell_type": "markdown",
   "id": "e6a04f37",
   "metadata": {},
   "source": [
    "Conclusion - Found the names in the 1st,11th and last position. "
   ]
  },
  {
   "cell_type": "markdown",
   "id": "fe7018b2",
   "metadata": {},
   "source": [
    "# Task 7 - Write a program to count the number of integers between 555 and 678 that are divisible by 7"
   ]
  },
  {
   "cell_type": "code",
   "execution_count": 26,
   "id": "8c3167ef",
   "metadata": {},
   "outputs": [
    {
     "name": "stdout",
     "output_type": "stream",
     "text": [
      "560 1\n",
      "567 2\n",
      "574 3\n",
      "581 4\n",
      "588 5\n",
      "595 6\n",
      "602 7\n",
      "609 8\n",
      "616 9\n",
      "623 10\n",
      "630 11\n",
      "637 12\n",
      "644 13\n",
      "651 14\n",
      "658 15\n",
      "665 16\n",
      "672 17\n"
     ]
    }
   ],
   "source": [
    "count = 0\n",
    "for i in range(555,677):\n",
    "    if i % 7 == 0:\n",
    "        print(i,end = \" \")\n",
    "        count+=1\n",
    "        print(count)    "
   ]
  },
  {
   "cell_type": "markdown",
   "id": "af43e84a",
   "metadata": {},
   "source": [
    "Conclusion - The count of found as 17 for numbers from 555 and 678 which are divisible by 7"
   ]
  },
  {
   "cell_type": "markdown",
   "id": "dcd860a1",
   "metadata": {},
   "source": [
    "# Task 8 - First 30 natural numbers but skips all the multiples of n."
   ]
  },
  {
   "cell_type": "code",
   "execution_count": 98,
   "id": "3c8cfde7",
   "metadata": {},
   "outputs": [
    {
     "name": "stdout",
     "output_type": "stream",
     "text": [
      "Enter a natural number : 3\n",
      "1\n",
      "2\n",
      "4\n",
      "5\n",
      "7\n",
      "8\n",
      "10\n",
      "11\n",
      "13\n",
      "14\n",
      "16\n",
      "17\n",
      "19\n",
      "20\n",
      "22\n",
      "23\n",
      "25\n",
      "26\n",
      "28\n",
      "29\n"
     ]
    }
   ],
   "source": [
    "n=int(input(\"Enter a natural number : \"))\n",
    "for i in range(1,31):\n",
    "    if i % n != 0:\n",
    "        print(i)"
   ]
  },
  {
   "cell_type": "markdown",
   "id": "c30e5858",
   "metadata": {},
   "source": [
    "Conclusion - Printed the natural numbers from up to 30 without the mutiples of user inputted integer."
   ]
  },
  {
   "cell_type": "markdown",
   "id": "2baec675",
   "metadata": {},
   "source": [
    "# Task 9 - Sum of corresponding first list and second list"
   ]
  },
  {
   "cell_type": "code",
   "execution_count": 3,
   "id": "ef0566bb",
   "metadata": {},
   "outputs": [
    {
     "name": "stdout",
     "output_type": "stream",
     "text": [
      "[11, 22, 33]\n"
     ]
    }
   ],
   "source": [
    "first = [1,2,3]\n",
    "second = [10,20,30]\n",
    "\n",
    "third = []\n",
    "\n",
    "for i in range(len(first)):\n",
    "    third.append(first[i] + second[i])\n",
    "\n",
    "print(third)"
   ]
  },
  {
   "cell_type": "code",
   "execution_count": 4,
   "id": "b5f240d2",
   "metadata": {},
   "outputs": [
    {
     "data": {
      "text/plain": [
       "[11, 22, 33]"
      ]
     },
     "execution_count": 4,
     "metadata": {},
     "output_type": "execute_result"
    }
   ],
   "source": [
    "third"
   ]
  },
  {
   "cell_type": "markdown",
   "id": "72cfdbba",
   "metadata": {},
   "source": [
    "Conclusion - The sum of the numbers in first list corresponding to second list is found and they are being added to a new list."
   ]
  }
 ],
 "metadata": {
  "kernelspec": {
   "display_name": "Python 3 (ipykernel)",
   "language": "python",
   "name": "python3"
  },
  "language_info": {
   "codemirror_mode": {
    "name": "ipython",
    "version": 3
   },
   "file_extension": ".py",
   "mimetype": "text/x-python",
   "name": "python",
   "nbconvert_exporter": "python",
   "pygments_lexer": "ipython3",
   "version": "3.11.3"
  }
 },
 "nbformat": 4,
 "nbformat_minor": 5
}
