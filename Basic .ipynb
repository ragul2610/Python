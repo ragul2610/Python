{
 "cells": [
  {
   "cell_type": "markdown",
   "id": "f0e132e4",
   "metadata": {},
   "source": [
    "# Task 1 -Creating variables"
   ]
  },
  {
   "cell_type": "markdown",
   "id": "1bd85257",
   "metadata": {},
   "source": [
    "### a)Create a variable rollno and assign an integer value to it. print the value of rollno,the id and the datatype"
   ]
  },
  {
   "cell_type": "code",
   "execution_count": 26,
   "id": "cf4ee72d",
   "metadata": {},
   "outputs": [],
   "source": [
    "rollno=19"
   ]
  },
  {
   "cell_type": "code",
   "execution_count": 27,
   "id": "faece612",
   "metadata": {},
   "outputs": [
    {
     "name": "stdout",
     "output_type": "stream",
     "text": [
      "19\n"
     ]
    }
   ],
   "source": [
    "print(rollno)"
   ]
  },
  {
   "cell_type": "code",
   "execution_count": 3,
   "id": "d0c15a87",
   "metadata": {},
   "outputs": [
    {
     "data": {
      "text/plain": [
       "140713939604840"
      ]
     },
     "execution_count": 3,
     "metadata": {},
     "output_type": "execute_result"
    }
   ],
   "source": [
    "id(rollno)"
   ]
  },
  {
   "cell_type": "code",
   "execution_count": 4,
   "id": "eaa83367",
   "metadata": {},
   "outputs": [
    {
     "data": {
      "text/plain": [
       "int"
      ]
     },
     "execution_count": 4,
     "metadata": {},
     "output_type": "execute_result"
    }
   ],
   "source": [
    "type(rollno)"
   ]
  },
  {
   "cell_type": "markdown",
   "id": "83dc4607",
   "metadata": {},
   "source": [
    "Conclusion - Created a variable rollno and assainged a value then found the id and the datatype"
   ]
  },
  {
   "cell_type": "markdown",
   "id": "99601e25",
   "metadata": {},
   "source": [
    "### b)Create a variable firstname and assign a string value to it.print the value of firstname ,the id and the datatype"
   ]
  },
  {
   "cell_type": "code",
   "execution_count": 28,
   "id": "f2dc9425",
   "metadata": {},
   "outputs": [
    {
     "name": "stdout",
     "output_type": "stream",
     "text": [
      "Itachi\n"
     ]
    },
    {
     "data": {
      "text/plain": [
       "str"
      ]
     },
     "execution_count": 28,
     "metadata": {},
     "output_type": "execute_result"
    }
   ],
   "source": [
    "firstname='Itachi'\n",
    "print(firstname)\n",
    "id(firstname)\n",
    "type(firstname)"
   ]
  },
  {
   "cell_type": "code",
   "execution_count": 6,
   "id": "c644b125",
   "metadata": {},
   "outputs": [
    {
     "data": {
      "text/plain": [
       "2184691924272"
      ]
     },
     "execution_count": 6,
     "metadata": {},
     "output_type": "execute_result"
    }
   ],
   "source": [
    "id(firstname)"
   ]
  },
  {
   "cell_type": "markdown",
   "id": "0481eccd",
   "metadata": {},
   "source": [
    "Conclusion - created a firstname as a string value and found the data type and id of it"
   ]
  },
  {
   "cell_type": "markdown",
   "id": "40b07223",
   "metadata": {},
   "source": [
    "### c)Create a variable lastname and assign a string value to it.print the value of firstname ,the id and the datatype "
   ]
  },
  {
   "cell_type": "code",
   "execution_count": 20,
   "id": "40c16ce5",
   "metadata": {},
   "outputs": [
    {
     "name": "stdout",
     "output_type": "stream",
     "text": [
      "Uchiha\n"
     ]
    },
    {
     "data": {
      "text/plain": [
       "str"
      ]
     },
     "execution_count": 20,
     "metadata": {},
     "output_type": "execute_result"
    }
   ],
   "source": [
    "lastname='Uchiha'\n",
    "print(lastname)\n",
    "id(lastname)\n",
    "type(lastname)"
   ]
  },
  {
   "cell_type": "code",
   "execution_count": 8,
   "id": "f6d4c716",
   "metadata": {},
   "outputs": [
    {
     "data": {
      "text/plain": [
       "2184720849136"
      ]
     },
     "execution_count": 8,
     "metadata": {},
     "output_type": "execute_result"
    }
   ],
   "source": [
    "id(lastname)"
   ]
  },
  {
   "cell_type": "markdown",
   "id": "693eb984",
   "metadata": {},
   "source": [
    "Conclusion -  Created a last name as a string value and found the data type and id of it"
   ]
  },
  {
   "cell_type": "markdown",
   "id": "c2003ed9",
   "metadata": {},
   "source": [
    "### Create a variable maxmarks and assign the value as 50 to it.print the value of max marks,the id and the datatype"
   ]
  },
  {
   "cell_type": "code",
   "execution_count": 1,
   "id": "5c3ffc49",
   "metadata": {},
   "outputs": [],
   "source": [
    "maxmarks = 50"
   ]
  },
  {
   "cell_type": "code",
   "execution_count": 3,
   "id": "46690409",
   "metadata": {},
   "outputs": [
    {
     "name": "stdout",
     "output_type": "stream",
     "text": [
      "50\n"
     ]
    },
    {
     "data": {
      "text/plain": [
       "int"
      ]
     },
     "execution_count": 3,
     "metadata": {},
     "output_type": "execute_result"
    }
   ],
   "source": [
    "print(maxmarks)\n",
    "type(maxmarks)"
   ]
  },
  {
   "cell_type": "code",
   "execution_count": 4,
   "id": "4843ee3d",
   "metadata": {},
   "outputs": [
    {
     "data": {
      "text/plain": [
       "140715396667720"
      ]
     },
     "execution_count": 4,
     "metadata": {},
     "output_type": "execute_result"
    }
   ],
   "source": [
    "id(maxmarks)"
   ]
  },
  {
   "cell_type": "markdown",
   "id": "7fec9943",
   "metadata": {},
   "source": [
    "Conlusion - created a value for maxmarks and assigned it to 50..then the tpe and id of it is found."
   ]
  },
  {
   "cell_type": "markdown",
   "id": "c4b5c568",
   "metadata": {},
   "source": [
    "# Task 2 - Naming a variable"
   ]
  },
  {
   "cell_type": "markdown",
   "id": "e8c8d6e4",
   "metadata": {},
   "source": [
    "## execute the expressions\n"
   ]
  },
  {
   "cell_type": "code",
   "execution_count": 15,
   "id": "92806e3d",
   "metadata": {},
   "outputs": [
    {
     "ename": "SyntaxError",
     "evalue": "invalid decimal literal (2593071960.py, line 1)",
     "output_type": "error",
     "traceback": [
      "\u001b[1;36m  Cell \u001b[1;32mIn[15], line 1\u001b[1;36m\u001b[0m\n\u001b[1;33m    2var = 2\u001b[0m\n\u001b[1;37m    ^\u001b[0m\n\u001b[1;31mSyntaxError\u001b[0m\u001b[1;31m:\u001b[0m invalid decimal literal\n"
     ]
    }
   ],
   "source": [
    "2var = 2"
   ]
  },
  {
   "cell_type": "code",
   "execution_count": 17,
   "id": "47e3ae2b",
   "metadata": {},
   "outputs": [],
   "source": [
    "var1=2\n"
   ]
  },
  {
   "cell_type": "code",
   "execution_count": 18,
   "id": "bc23830c",
   "metadata": {},
   "outputs": [
    {
     "data": {
      "text/plain": [
       "2"
      ]
     },
     "execution_count": 18,
     "metadata": {},
     "output_type": "execute_result"
    }
   ],
   "source": [
    "var1"
   ]
  },
  {
   "cell_type": "code",
   "execution_count": 21,
   "id": "e64115bb",
   "metadata": {},
   "outputs": [
    {
     "ename": "SyntaxError",
     "evalue": "invalid syntax (3192978743.py, line 1)",
     "output_type": "error",
     "traceback": [
      "\u001b[1;36m  Cell \u001b[1;32mIn[21], line 1\u001b[1;36m\u001b[0m\n\u001b[1;33m    var 1=2\u001b[0m\n\u001b[1;37m        ^\u001b[0m\n\u001b[1;31mSyntaxError\u001b[0m\u001b[1;31m:\u001b[0m invalid syntax\n"
     ]
    }
   ],
   "source": [
    "var 1=2\n"
   ]
  },
  {
   "cell_type": "code",
   "execution_count": 22,
   "id": "d7f2c90d",
   "metadata": {},
   "outputs": [
    {
     "ename": "SyntaxError",
     "evalue": "invalid syntax (661466017.py, line 1)",
     "output_type": "error",
     "traceback": [
      "\u001b[1;36m  Cell \u001b[1;32mIn[22], line 1\u001b[1;36m\u001b[0m\n\u001b[1;33m    var$2=2\u001b[0m\n\u001b[1;37m       ^\u001b[0m\n\u001b[1;31mSyntaxError\u001b[0m\u001b[1;31m:\u001b[0m invalid syntax\n"
     ]
    }
   ],
   "source": [
    "var$2=2"
   ]
  },
  {
   "cell_type": "markdown",
   "id": "1eeb8a08",
   "metadata": {},
   "source": [
    "Conclusion - only the var1=2 is correct...other syntax are wrong as variable cant take space,special symbol or start with numeric characters"
   ]
  },
  {
   "cell_type": "markdown",
   "id": "20d71288",
   "metadata": {},
   "source": [
    "# Task 3 - Assigning values to variable"
   ]
  },
  {
   "cell_type": "code",
   "execution_count": 25,
   "id": "82abf4ed",
   "metadata": {},
   "outputs": [],
   "source": [
    "Class=15"
   ]
  },
  {
   "cell_type": "code",
   "execution_count": 26,
   "id": "161404e1",
   "metadata": {},
   "outputs": [
    {
     "data": {
      "text/plain": [
       "15"
      ]
     },
     "execution_count": 26,
     "metadata": {},
     "output_type": "execute_result"
    }
   ],
   "source": [
    "Class"
   ]
  },
  {
   "cell_type": "code",
   "execution_count": 27,
   "id": "afe93b21",
   "metadata": {},
   "outputs": [
    {
     "ename": "SyntaxError",
     "evalue": "invalid syntax (1944381924.py, line 1)",
     "output_type": "error",
     "traceback": [
      "\u001b[1;36m  Cell \u001b[1;32mIn[27], line 1\u001b[1;36m\u001b[0m\n\u001b[1;33m    class=14\u001b[0m\n\u001b[1;37m         ^\u001b[0m\n\u001b[1;31mSyntaxError\u001b[0m\u001b[1;31m:\u001b[0m invalid syntax\n"
     ]
    }
   ],
   "source": [
    "class=14"
   ]
  },
  {
   "cell_type": "markdown",
   "id": "dd9fbcd0",
   "metadata": {},
   "source": [
    "Conclusion - as class is a keyword it cannot be assigned as a variable"
   ]
  },
  {
   "cell_type": "code",
   "execution_count": 29,
   "id": "a9efa532",
   "metadata": {},
   "outputs": [],
   "source": [
    "DEF=13"
   ]
  },
  {
   "cell_type": "code",
   "execution_count": 31,
   "id": "92553453",
   "metadata": {},
   "outputs": [
    {
     "data": {
      "text/plain": [
       "13"
      ]
     },
     "execution_count": 31,
     "metadata": {},
     "output_type": "execute_result"
    }
   ],
   "source": [
    "DEF"
   ]
  },
  {
   "cell_type": "code",
   "execution_count": 34,
   "id": "0f688d5b",
   "metadata": {},
   "outputs": [
    {
     "ename": "SyntaxError",
     "evalue": "invalid syntax (205512491.py, line 1)",
     "output_type": "error",
     "traceback": [
      "\u001b[1;36m  Cell \u001b[1;32mIn[34], line 1\u001b[1;36m\u001b[0m\n\u001b[1;33m    def=12\u001b[0m\n\u001b[1;37m       ^\u001b[0m\n\u001b[1;31mSyntaxError\u001b[0m\u001b[1;31m:\u001b[0m invalid syntax\n"
     ]
    }
   ],
   "source": [
    "def=12\n"
   ]
  },
  {
   "cell_type": "markdown",
   "id": "3abfbf02",
   "metadata": {},
   "source": [
    "Conclusion - as def is a keyword it cannot be assigned as a variable"
   ]
  },
  {
   "cell_type": "code",
   "execution_count": 36,
   "id": "f16aa23c",
   "metadata": {},
   "outputs": [
    {
     "ename": "NameError",
     "evalue": "name 'TRUE' is not defined",
     "output_type": "error",
     "traceback": [
      "\u001b[1;31m---------------------------------------------------------------------------\u001b[0m",
      "\u001b[1;31mNameError\u001b[0m                                 Traceback (most recent call last)",
      "Cell \u001b[1;32mIn[36], line 1\u001b[0m\n\u001b[1;32m----> 1\u001b[0m a\u001b[38;5;241m=\u001b[39mTRUE\n",
      "\u001b[1;31mNameError\u001b[0m: name 'TRUE' is not defined"
     ]
    }
   ],
   "source": [
    "a=TRUE"
   ]
  },
  {
   "cell_type": "code",
   "execution_count": 37,
   "id": "175a269c",
   "metadata": {},
   "outputs": [
    {
     "ename": "NameError",
     "evalue": "name 'false' is not defined",
     "output_type": "error",
     "traceback": [
      "\u001b[1;31m---------------------------------------------------------------------------\u001b[0m",
      "\u001b[1;31mNameError\u001b[0m                                 Traceback (most recent call last)",
      "Cell \u001b[1;32mIn[37], line 1\u001b[0m\n\u001b[1;32m----> 1\u001b[0m b\u001b[38;5;241m=\u001b[39mfalse\n",
      "\u001b[1;31mNameError\u001b[0m: name 'false' is not defined"
     ]
    }
   ],
   "source": [
    "b=false"
   ]
  },
  {
   "cell_type": "markdown",
   "id": "9c29e00b",
   "metadata": {},
   "source": [
    "Conclusion - both are error as the words are all in caps and small..only the first letter should be in caps for boolein. "
   ]
  },
  {
   "cell_type": "markdown",
   "id": "28381566",
   "metadata": {},
   "source": [
    "# Task 4 - using id()"
   ]
  },
  {
   "cell_type": "markdown",
   "id": "d656104f",
   "metadata": {},
   "source": [
    "## a)Create a variable named marks and assign it to a float value between 0 and 100. print the value ,id and datatype"
   ]
  },
  {
   "cell_type": "code",
   "execution_count": 38,
   "id": "64376d55",
   "metadata": {},
   "outputs": [],
   "source": [
    "marks=92.5"
   ]
  },
  {
   "cell_type": "code",
   "execution_count": 39,
   "id": "24bdeb78",
   "metadata": {},
   "outputs": [
    {
     "data": {
      "text/plain": [
       "92.5"
      ]
     },
     "execution_count": 39,
     "metadata": {},
     "output_type": "execute_result"
    }
   ],
   "source": [
    "marks"
   ]
  },
  {
   "cell_type": "code",
   "execution_count": 40,
   "id": "0e37ac6c",
   "metadata": {
    "scrolled": true
   },
   "outputs": [
    {
     "data": {
      "text/plain": [
       "(2184733351792, float)"
      ]
     },
     "execution_count": 40,
     "metadata": {},
     "output_type": "execute_result"
    }
   ],
   "source": [
    "id(marks),type(marks)"
   ]
  },
  {
   "cell_type": "markdown",
   "id": "7ea8b39a",
   "metadata": {},
   "source": [
    "Conclusion - Created a float value for marks and printed its value,id and type"
   ]
  },
  {
   "cell_type": "markdown",
   "id": "52421747",
   "metadata": {},
   "source": [
    "## b)change the value of marks to any other float value between 0 and 100.print the value of marks,the id and the datatype"
   ]
  },
  {
   "cell_type": "code",
   "execution_count": 41,
   "id": "e7560b91",
   "metadata": {},
   "outputs": [],
   "source": [
    "marks=95.2"
   ]
  },
  {
   "cell_type": "code",
   "execution_count": 42,
   "id": "56b934a4",
   "metadata": {},
   "outputs": [
    {
     "name": "stdout",
     "output_type": "stream",
     "text": [
      "95.2\n"
     ]
    }
   ],
   "source": [
    "print(marks)"
   ]
  },
  {
   "cell_type": "code",
   "execution_count": 43,
   "id": "9f6cd2d2",
   "metadata": {},
   "outputs": [
    {
     "data": {
      "text/plain": [
       "(2184733349872, float)"
      ]
     },
     "execution_count": 43,
     "metadata": {},
     "output_type": "execute_result"
    }
   ],
   "source": [
    "id(marks),type(marks)"
   ]
  },
  {
   "cell_type": "markdown",
   "id": "aa6c072f",
   "metadata": {},
   "source": [
    "Conclusion - Assigned a new float value to the same variable marks and found its id and type  "
   ]
  },
  {
   "cell_type": "markdown",
   "id": "8dcd27d7",
   "metadata": {},
   "source": [
    "## c)Is the id for marks variable in the last two questions the same or different "
   ]
  },
  {
   "cell_type": "markdown",
   "id": "b09274bd",
   "metadata": {},
   "source": [
    "Conclusion - It is different as both are of different float values"
   ]
  },
  {
   "cell_type": "markdown",
   "id": "73fb1cc4",
   "metadata": {},
   "source": [
    "# Task 5 - Formatting the output"
   ]
  },
  {
   "cell_type": "markdown",
   "id": "544295f6",
   "metadata": {},
   "source": [
    "## a)define a variable maxmarks and assaign it to a value 100.divide marks by max marks.print the output as percentage\n",
    "\n"
   ]
  },
  {
   "cell_type": "code",
   "execution_count": 44,
   "id": "1920e460",
   "metadata": {},
   "outputs": [],
   "source": [
    "maxmarks=100"
   ]
  },
  {
   "cell_type": "code",
   "execution_count": 59,
   "id": "ca7de8d4",
   "metadata": {},
   "outputs": [
    {
     "name": "stdout",
     "output_type": "stream",
     "text": [
      "95.2\n"
     ]
    }
   ],
   "source": [
    "print((marks/maxmarks)*100)"
   ]
  },
  {
   "cell_type": "markdown",
   "id": "6e878af8",
   "metadata": {},
   "source": [
    "## b)print the value of the variable fullname by joining firstname and lastname "
   ]
  },
  {
   "cell_type": "code",
   "execution_count": 29,
   "id": "75889260",
   "metadata": {},
   "outputs": [],
   "source": [
    "firstname='Itachi'\n",
    "lastname='Uchiha'"
   ]
  },
  {
   "cell_type": "code",
   "execution_count": 30,
   "id": "bdd8170f",
   "metadata": {},
   "outputs": [],
   "source": [
    "fullname=firstname+\" \"+lastname"
   ]
  },
  {
   "cell_type": "code",
   "execution_count": 31,
   "id": "03ef5274",
   "metadata": {},
   "outputs": [
    {
     "data": {
      "text/plain": [
       "'Itachi Uchiha'"
      ]
     },
     "execution_count": 31,
     "metadata": {},
     "output_type": "execute_result"
    }
   ],
   "source": [
    "fullname"
   ]
  },
  {
   "cell_type": "markdown",
   "id": "15a2a86e",
   "metadata": {},
   "source": [
    "## c) print the value of the variable fullname  with the text \"scored\" ,followed by the percentage of marks "
   ]
  },
  {
   "cell_type": "code",
   "execution_count": 41,
   "id": "70720d75",
   "metadata": {},
   "outputs": [
    {
     "name": "stdout",
     "output_type": "stream",
     "text": [
      "('Itachi Uchiha', 'scored', 95.2, '%')\n"
     ]
    }
   ],
   "source": [
    "print((fullname,\"scored\",95.2,\"%\"))\n"
   ]
  },
  {
   "cell_type": "markdown",
   "id": "12813c4b",
   "metadata": {},
   "source": [
    "Conclusion - Assigned a maxmarks as 100 concadinated firstname and lastname as fullname and printed it as fullname scored and marks"
   ]
  },
  {
   "cell_type": "markdown",
   "id": "e81e7ac4",
   "metadata": {},
   "source": [
    "# Task 6 - Creating data structures"
   ]
  },
  {
   "cell_type": "markdown",
   "id": "bcde2471",
   "metadata": {},
   "source": [
    "## a) use a variable rollno as a key and variable full name as a value to create a dictionary data\n"
   ]
  },
  {
   "cell_type": "code",
   "execution_count": 33,
   "id": "6c95a22f",
   "metadata": {},
   "outputs": [],
   "source": [
    "D1={rollno:fullname}"
   ]
  },
  {
   "cell_type": "code",
   "execution_count": 34,
   "id": "05075a7c",
   "metadata": {},
   "outputs": [
    {
     "data": {
      "text/plain": [
       "{19: 'Itachi Uchiha'}"
      ]
     },
     "execution_count": 34,
     "metadata": {},
     "output_type": "execute_result"
    }
   ],
   "source": [
    "D1"
   ]
  },
  {
   "cell_type": "markdown",
   "id": "67464aa0",
   "metadata": {},
   "source": [
    "Conclusion - Created a dictionary by using rollno as a key and fullname as a variable"
   ]
  },
  {
   "cell_type": "markdown",
   "id": "8f150d28",
   "metadata": {},
   "source": [
    "## b)Use the variables rollno,fullname and marks as the value to create a list data structure"
   ]
  },
  {
   "cell_type": "code",
   "execution_count": 42,
   "id": "d3eab2ba",
   "metadata": {},
   "outputs": [],
   "source": [
    "L1=[19,fullname,95.2]"
   ]
  },
  {
   "cell_type": "code",
   "execution_count": 43,
   "id": "eae40163",
   "metadata": {},
   "outputs": [
    {
     "data": {
      "text/plain": [
       "[19, 'Itachi Uchiha', 95.2]"
      ]
     },
     "execution_count": 43,
     "metadata": {},
     "output_type": "execute_result"
    }
   ],
   "source": [
    "L1"
   ]
  },
  {
   "cell_type": "markdown",
   "id": "c01d5b6e",
   "metadata": {},
   "source": [
    "Conclusion - Created a list by using rollno,fulname and marks"
   ]
  },
  {
   "cell_type": "markdown",
   "id": "184d0475",
   "metadata": {},
   "source": [
    "# Task 7 - Arithmetic operations"
   ]
  },
  {
   "cell_type": "markdown",
   "id": "61b606d3",
   "metadata": {},
   "source": [
    "## Execute the following expressions"
   ]
  },
  {
   "cell_type": "code",
   "execution_count": 44,
   "id": "fc53e014",
   "metadata": {},
   "outputs": [
    {
     "ename": "TypeError",
     "evalue": "unsupported operand type(s) for +: 'int' and 'str'",
     "output_type": "error",
     "traceback": [
      "\u001b[1;31m---------------------------------------------------------------------------\u001b[0m",
      "\u001b[1;31mTypeError\u001b[0m                                 Traceback (most recent call last)",
      "Cell \u001b[1;32mIn[44], line 1\u001b[0m\n\u001b[1;32m----> 1\u001b[0m \u001b[38;5;241m1\u001b[39m\u001b[38;5;241m+\u001b[39m\u001b[38;5;124m\"\u001b[39m\u001b[38;5;124m2\u001b[39m\u001b[38;5;124m\"\u001b[39m\n",
      "\u001b[1;31mTypeError\u001b[0m: unsupported operand type(s) for +: 'int' and 'str'"
     ]
    }
   ],
   "source": [
    "1+\"2\""
   ]
  },
  {
   "cell_type": "code",
   "execution_count": 45,
   "id": "e49ee8d3",
   "metadata": {},
   "outputs": [
    {
     "data": {
      "text/plain": [
       "'12'"
      ]
     },
     "execution_count": 45,
     "metadata": {},
     "output_type": "execute_result"
    }
   ],
   "source": [
    "\"1\"+\"2\""
   ]
  },
  {
   "cell_type": "code",
   "execution_count": 46,
   "id": "36e6a202",
   "metadata": {},
   "outputs": [
    {
     "data": {
      "text/plain": [
       "0.5"
      ]
     },
     "execution_count": 46,
     "metadata": {},
     "output_type": "execute_result"
    }
   ],
   "source": [
    "1/2"
   ]
  },
  {
   "cell_type": "code",
   "execution_count": 47,
   "id": "112eaded",
   "metadata": {},
   "outputs": [
    {
     "data": {
      "text/plain": [
       "0"
      ]
     },
     "execution_count": 47,
     "metadata": {},
     "output_type": "execute_result"
    }
   ],
   "source": [
    "1//2"
   ]
  },
  {
   "cell_type": "markdown",
   "id": "8f8f74a9",
   "metadata": {},
   "source": [
    "Conclusion - A string value and a int cannot be added.Two strings on addition gets concadinated.on division it shows even in float as of floor division it only shows int values and omits the value after decimal point "
   ]
  },
  {
   "cell_type": "markdown",
   "id": "c2897d8c",
   "metadata": {},
   "source": [
    "# Task 8 - Logical operations"
   ]
  },
  {
   "cell_type": "markdown",
   "id": "d2c58eec",
   "metadata": {},
   "source": [
    "## Execute the following commands "
   ]
  },
  {
   "cell_type": "code",
   "execution_count": 48,
   "id": "975fbc4c",
   "metadata": {},
   "outputs": [
    {
     "data": {
      "text/plain": [
       "True"
      ]
     },
     "execution_count": 48,
     "metadata": {},
     "output_type": "execute_result"
    }
   ],
   "source": [
    "True and True"
   ]
  },
  {
   "cell_type": "code",
   "execution_count": 49,
   "id": "7aa08ef7",
   "metadata": {},
   "outputs": [
    {
     "data": {
      "text/plain": [
       "False"
      ]
     },
     "execution_count": 49,
     "metadata": {},
     "output_type": "execute_result"
    }
   ],
   "source": [
    "True and False"
   ]
  },
  {
   "cell_type": "code",
   "execution_count": 50,
   "id": "18b321b4",
   "metadata": {},
   "outputs": [
    {
     "data": {
      "text/plain": [
       "True"
      ]
     },
     "execution_count": 50,
     "metadata": {},
     "output_type": "execute_result"
    }
   ],
   "source": [
    "False or True"
   ]
  },
  {
   "cell_type": "code",
   "execution_count": 51,
   "id": "ef7b03d3",
   "metadata": {},
   "outputs": [
    {
     "data": {
      "text/plain": [
       "False"
      ]
     },
     "execution_count": 51,
     "metadata": {},
     "output_type": "execute_result"
    }
   ],
   "source": [
    "False or False"
   ]
  },
  {
   "cell_type": "markdown",
   "id": "4fe33a6c",
   "metadata": {},
   "source": [
    "Conclusion - And operator gives value only if both variables are same and Or operator gives value when any one satisfies the condition"
   ]
  },
  {
   "cell_type": "markdown",
   "id": "7179ab68",
   "metadata": {},
   "source": [
    "# Task 9 - Identity and Membership operators"
   ]
  },
  {
   "cell_type": "markdown",
   "id": "d8d1893b",
   "metadata": {},
   "source": [
    "## compare firstname and the fullname using the in operator "
   ]
  },
  {
   "cell_type": "code",
   "execution_count": 52,
   "id": "bd23e0dc",
   "metadata": {},
   "outputs": [
    {
     "data": {
      "text/plain": [
       "True"
      ]
     },
     "execution_count": 52,
     "metadata": {},
     "output_type": "execute_result"
    }
   ],
   "source": [
    "firstname in fullname"
   ]
  },
  {
   "cell_type": "markdown",
   "id": "22b67232",
   "metadata": {},
   "source": [
    "Conclusion - It is True because firstname is present in fullname"
   ]
  },
  {
   "cell_type": "markdown",
   "id": "b7322509",
   "metadata": {},
   "source": [
    "## compare firstname and the fullname using the is operator\n"
   ]
  },
  {
   "cell_type": "code",
   "execution_count": 53,
   "id": "df7ef8f6",
   "metadata": {},
   "outputs": [
    {
     "data": {
      "text/plain": [
       "False"
      ]
     },
     "execution_count": 53,
     "metadata": {},
     "output_type": "execute_result"
    }
   ],
   "source": [
    "firstname is fullname"
   ]
  },
  {
   "cell_type": "markdown",
   "id": "55ad1674",
   "metadata": {},
   "source": [
    "Conclusion - It is False because firstname cannot be a fullname"
   ]
  },
  {
   "cell_type": "markdown",
   "id": "b48df55f",
   "metadata": {},
   "source": [
    "# Task 10 - Associativity"
   ]
  },
  {
   "cell_type": "code",
   "execution_count": 57,
   "id": "681a68f2",
   "metadata": {},
   "outputs": [],
   "source": [
    "a=4"
   ]
  },
  {
   "cell_type": "code",
   "execution_count": 58,
   "id": "4cd1e4dd",
   "metadata": {},
   "outputs": [],
   "source": [
    "b=3"
   ]
  },
  {
   "cell_type": "code",
   "execution_count": 59,
   "id": "36f2caef",
   "metadata": {},
   "outputs": [],
   "source": [
    "c=2"
   ]
  },
  {
   "cell_type": "markdown",
   "id": "eef42c5b",
   "metadata": {},
   "source": [
    "## Print the value of d "
   ]
  },
  {
   "cell_type": "code",
   "execution_count": 60,
   "id": "36f798ab",
   "metadata": {},
   "outputs": [],
   "source": [
    "d=a**b+c"
   ]
  },
  {
   "cell_type": "code",
   "execution_count": 61,
   "id": "ec79fd9c",
   "metadata": {},
   "outputs": [
    {
     "data": {
      "text/plain": [
       "66"
      ]
     },
     "execution_count": 61,
     "metadata": {},
     "output_type": "execute_result"
    }
   ],
   "source": [
    "d"
   ]
  },
  {
   "cell_type": "markdown",
   "id": "f12bebdc",
   "metadata": {},
   "source": [
    "Conclusion - First modulo takes place and followed by addition."
   ]
  },
  {
   "cell_type": "markdown",
   "id": "b65b88ae",
   "metadata": {},
   "source": [
    "## Print the value of e"
   ]
  },
  {
   "cell_type": "code",
   "execution_count": 63,
   "id": "47818a8b",
   "metadata": {},
   "outputs": [],
   "source": [
    "e=a**(b+c)"
   ]
  },
  {
   "cell_type": "code",
   "execution_count": 64,
   "id": "e161e607",
   "metadata": {},
   "outputs": [
    {
     "data": {
      "text/plain": [
       "1024"
      ]
     },
     "execution_count": 64,
     "metadata": {},
     "output_type": "execute_result"
    }
   ],
   "source": [
    "e"
   ]
  },
  {
   "cell_type": "markdown",
   "id": "ca982963",
   "metadata": {},
   "source": [
    "Conclusion - First the addition inside the brakets take place then followed by modulo"
   ]
  },
  {
   "cell_type": "markdown",
   "id": "c3393882",
   "metadata": {},
   "source": [
    "## explain why the values of d and e are different "
   ]
  },
  {
   "cell_type": "markdown",
   "id": "1ba9d6a7",
   "metadata": {},
   "source": [
    "Conclusion - The values of d and e are different because of operator precedence PEMDAS rule."
   ]
  },
  {
   "cell_type": "code",
   "execution_count": null,
   "id": "f4d6e765",
   "metadata": {},
   "outputs": [],
   "source": []
  }
 ],
 "metadata": {
  "kernelspec": {
   "display_name": "Python 3 (ipykernel)",
   "language": "python",
   "name": "python3"
  },
  "language_info": {
   "codemirror_mode": {
    "name": "ipython",
    "version": 3
   },
   "file_extension": ".py",
   "mimetype": "text/x-python",
   "name": "python",
   "nbconvert_exporter": "python",
   "pygments_lexer": "ipython3",
   "version": "3.11.3"
  }
 },
 "nbformat": 4,
 "nbformat_minor": 5
}
