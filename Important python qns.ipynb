{
 "cells": [
  {
   "cell_type": "markdown",
   "id": "a4a682c8",
   "metadata": {},
   "source": [
    "# Task 1 - Factorial of a number"
   ]
  },
  {
   "cell_type": "code",
   "execution_count": 4,
   "id": "13307f25",
   "metadata": {},
   "outputs": [
    {
     "name": "stdout",
     "output_type": "stream",
     "text": [
      "Enter a number: 5\n",
      "The factorial is :  120\n"
     ]
    }
   ],
   "source": [
    "n = int(input(\"Enter a number: \"))\n",
    "factorial = 1\n",
    "while (n>0):\n",
    "    factorial = factorial * n\n",
    "    n = n-1\n",
    "\n",
    "print(\"The factorial is : \",factorial)"
   ]
  },
  {
   "cell_type": "markdown",
   "id": "35162c41",
   "metadata": {},
   "source": [
    "Conclusion - The code is for finding the factorial of the given number."
   ]
  },
  {
   "cell_type": "markdown",
   "id": "cc2381ef",
   "metadata": {},
   "source": [
    "# Task 2 - Prime numbers"
   ]
  },
  {
   "cell_type": "code",
   "execution_count": 4,
   "id": "8765f8b9",
   "metadata": {},
   "outputs": [
    {
     "name": "stdout",
     "output_type": "stream",
     "text": [
      "50 is not prime\n",
      "51 is not prime\n"
     ]
    }
   ],
   "source": [
    "numbers = [50, 51]\n",
    "\n",
    "for num in numbers:\n",
    "    if num <= 1:\n",
    "        prime_status = \"not prime\"\n",
    "    elif num <= 3:\n",
    "        prime_status = \"prime\"\n",
    "    elif num % 2 == 0 or num % 3 == 0:\n",
    "        prime_status = \"not prime\"\n",
    "    else:\n",
    "        prime_status = \"prime\"\n",
    "    \n",
    "    print(num,\"is\",prime_status)"
   ]
  },
  {
   "cell_type": "markdown",
   "id": "53627d65",
   "metadata": {},
   "source": [
    "Conclusion - The code is for finding where the given number is prime number or not"
   ]
  },
  {
   "cell_type": "markdown",
   "id": "90c006ce",
   "metadata": {},
   "source": [
    "# Task 3 - Sum of all digits"
   ]
  },
  {
   "cell_type": "code",
   "execution_count": 2,
   "id": "f8f5bfbe",
   "metadata": {},
   "outputs": [
    {
     "name": "stdout",
     "output_type": "stream",
     "text": [
      "Enter a five-digit number: 23243\n",
      "Sum of digits: 14\n"
     ]
    }
   ],
   "source": [
    "number = int(input(\"Enter a five-digit number: \"))\n",
    "\n",
    "if 10000 <= number <= 99999:\n",
    "    digit_sum = 0\n",
    "    while number > 0:\n",
    "        digit_sum += number % 10\n",
    "        number //= 10\n",
    "\n",
    "    print(\"Sum of digits:\", digit_sum)\n",
    "else:\n",
    "    print(\"Please enter a valid five-digit number.\")"
   ]
  },
  {
   "cell_type": "markdown",
   "id": "dcb3673e",
   "metadata": {},
   "source": [
    "Conclusion - From the code it finds the sum of the 5 digit number entered."
   ]
  },
  {
   "cell_type": "markdown",
   "id": "e71effbb",
   "metadata": {},
   "source": [
    "# Task 4 - Fibonacci series"
   ]
  },
  {
   "cell_type": "code",
   "execution_count": 29,
   "id": "52d70ce2",
   "metadata": {},
   "outputs": [
    {
     "name": "stdout",
     "output_type": "stream",
     "text": [
      "0 1 1 2 3 5 8 "
     ]
    }
   ],
   "source": [
    "a = 0\n",
    "b = 1\n",
    "count = 0\n",
    "\n",
    "while count < 7:\n",
    "    print(a, end=\" \")\n",
    "    a, b = b, a + b\n",
    "    count += 1"
   ]
  },
  {
   "cell_type": "markdown",
   "id": "59e4813a",
   "metadata": {},
   "source": [
    "Conclusion - The fibonacci series for first 7 numbers are shown"
   ]
  },
  {
   "cell_type": "markdown",
   "id": "4141624e",
   "metadata": {},
   "source": [
    "# Task 5 - Adding two tuples"
   ]
  },
  {
   "cell_type": "code",
   "execution_count": 15,
   "id": "c94c4f68",
   "metadata": {},
   "outputs": [],
   "source": [
    "t1 = (1,2,3)\n",
    "t2 = (4,5,6)"
   ]
  },
  {
   "cell_type": "code",
   "execution_count": 16,
   "id": "65f5f480",
   "metadata": {},
   "outputs": [
    {
     "data": {
      "text/plain": [
       "1829226804608"
      ]
     },
     "execution_count": 16,
     "metadata": {},
     "output_type": "execute_result"
    }
   ],
   "source": [
    "id(t1)"
   ]
  },
  {
   "cell_type": "code",
   "execution_count": 17,
   "id": "914c1c13",
   "metadata": {},
   "outputs": [
    {
     "data": {
      "text/plain": [
       "1829226801728"
      ]
     },
     "execution_count": 17,
     "metadata": {},
     "output_type": "execute_result"
    }
   ],
   "source": [
    "id(t2)"
   ]
  },
  {
   "cell_type": "code",
   "execution_count": 18,
   "id": "d9789c71",
   "metadata": {},
   "outputs": [],
   "source": [
    "t1 = t1 + t2"
   ]
  },
  {
   "cell_type": "code",
   "execution_count": 19,
   "id": "d64c45e6",
   "metadata": {},
   "outputs": [
    {
     "data": {
      "text/plain": [
       "(1, 2, 3, 4, 5, 6)"
      ]
     },
     "execution_count": 19,
     "metadata": {},
     "output_type": "execute_result"
    }
   ],
   "source": [
    "t1"
   ]
  },
  {
   "cell_type": "code",
   "execution_count": 20,
   "id": "8880ddb3",
   "metadata": {},
   "outputs": [
    {
     "data": {
      "text/plain": [
       "1829226500960"
      ]
     },
     "execution_count": 20,
     "metadata": {},
     "output_type": "execute_result"
    }
   ],
   "source": [
    "id(t1)"
   ]
  },
  {
   "cell_type": "code",
   "execution_count": 21,
   "id": "84340b2c",
   "metadata": {},
   "outputs": [
    {
     "data": {
      "text/plain": [
       "1829226801728"
      ]
     },
     "execution_count": 21,
     "metadata": {},
     "output_type": "execute_result"
    }
   ],
   "source": [
    "id(t2)"
   ]
  },
  {
   "cell_type": "markdown",
   "id": "f1495687",
   "metadata": {},
   "source": [
    "Conclusion - Created two tuples t1 and t2..typed it ids.then t2 is joined with t1 and the id of t1 differs."
   ]
  },
  {
   "cell_type": "markdown",
   "id": "f6284ae4",
   "metadata": {},
   "source": [
    "# Task 6 - Inserting data into set"
   ]
  },
  {
   "cell_type": "code",
   "execution_count": 36,
   "id": "7b9218d8",
   "metadata": {},
   "outputs": [],
   "source": [
    "m = {10,20,30,40,50}\n",
    "n = [33,40,55,60,70]"
   ]
  },
  {
   "cell_type": "code",
   "execution_count": 37,
   "id": "4c5cfedf",
   "metadata": {},
   "outputs": [
    {
     "data": {
      "text/plain": [
       "{10, 20, 30, 40, 50}"
      ]
     },
     "execution_count": 37,
     "metadata": {},
     "output_type": "execute_result"
    }
   ],
   "source": [
    "m"
   ]
  },
  {
   "cell_type": "code",
   "execution_count": 38,
   "id": "8975ce97",
   "metadata": {},
   "outputs": [
    {
     "data": {
      "text/plain": [
       "[33, 40, 55, 60, 70]"
      ]
     },
     "execution_count": 38,
     "metadata": {},
     "output_type": "execute_result"
    }
   ],
   "source": [
    "n"
   ]
  },
  {
   "cell_type": "code",
   "execution_count": 39,
   "id": "5c0df2be",
   "metadata": {},
   "outputs": [],
   "source": [
    "m.add(33)"
   ]
  },
  {
   "cell_type": "code",
   "execution_count": 40,
   "id": "c383e5a1",
   "metadata": {},
   "outputs": [
    {
     "data": {
      "text/plain": [
       "{10, 20, 30, 33, 40, 50}"
      ]
     },
     "execution_count": 40,
     "metadata": {},
     "output_type": "execute_result"
    }
   ],
   "source": [
    "m"
   ]
  },
  {
   "cell_type": "code",
   "execution_count": 41,
   "id": "3bd7dae5",
   "metadata": {},
   "outputs": [],
   "source": [
    "m.add(40)"
   ]
  },
  {
   "cell_type": "code",
   "execution_count": 42,
   "id": "24c28ec9",
   "metadata": {},
   "outputs": [
    {
     "data": {
      "text/plain": [
       "{10, 20, 30, 33, 40, 50}"
      ]
     },
     "execution_count": 42,
     "metadata": {},
     "output_type": "execute_result"
    }
   ],
   "source": [
    "m"
   ]
  },
  {
   "cell_type": "code",
   "execution_count": 43,
   "id": "f08ebd40",
   "metadata": {},
   "outputs": [],
   "source": [
    "m.add(55)"
   ]
  },
  {
   "cell_type": "code",
   "execution_count": 44,
   "id": "939b5774",
   "metadata": {},
   "outputs": [
    {
     "data": {
      "text/plain": [
       "{10, 20, 30, 33, 40, 50, 55}"
      ]
     },
     "execution_count": 44,
     "metadata": {},
     "output_type": "execute_result"
    }
   ],
   "source": [
    "m"
   ]
  },
  {
   "cell_type": "code",
   "execution_count": 45,
   "id": "e361f8b5",
   "metadata": {},
   "outputs": [],
   "source": [
    "m.add(60)"
   ]
  },
  {
   "cell_type": "code",
   "execution_count": 46,
   "id": "68e97d75",
   "metadata": {},
   "outputs": [
    {
     "data": {
      "text/plain": [
       "{10, 20, 30, 33, 40, 50, 55, 60}"
      ]
     },
     "execution_count": 46,
     "metadata": {},
     "output_type": "execute_result"
    }
   ],
   "source": [
    "m"
   ]
  },
  {
   "cell_type": "code",
   "execution_count": 47,
   "id": "536d4034",
   "metadata": {},
   "outputs": [],
   "source": [
    "m.add(70)"
   ]
  },
  {
   "cell_type": "code",
   "execution_count": 48,
   "id": "7afce9f3",
   "metadata": {},
   "outputs": [
    {
     "data": {
      "text/plain": [
       "{10, 20, 30, 33, 40, 50, 55, 60, 70}"
      ]
     },
     "execution_count": 48,
     "metadata": {},
     "output_type": "execute_result"
    }
   ],
   "source": [
    "m"
   ]
  },
  {
   "cell_type": "markdown",
   "id": "8f63b295",
   "metadata": {},
   "source": [
    "Conclusion - Created an set of values m and list of values n.Appened the list values to set.As set dont contaion duplicates,no duplicates added to the set."
   ]
  },
  {
   "cell_type": "markdown",
   "id": "b641192f",
   "metadata": {},
   "source": [
    "# Task 7 - Iterating over a Dictionary data structure"
   ]
  },
  {
   "cell_type": "code",
   "execution_count": 4,
   "id": "823bd1d1",
   "metadata": {},
   "outputs": [
    {
     "name": "stdout",
     "output_type": "stream",
     "text": [
      "Enter the size :4\n",
      "Enter the language :Python\n",
      "Enter the number : 1\n",
      "Enter the language :Data\n",
      "Enter the number : 2\n",
      "Enter the language :Excel\n",
      "Enter the number : 3\n",
      "Enter the language :SQL\n",
      "Enter the number : 4\n",
      "{'Python': 1, 'Data': 2, 'Excel': 3, 'SQL': 4}\n",
      "Data:2\n",
      "SQL:4\n"
     ]
    }
   ],
   "source": [
    "data_set = {}\n",
    "size = int(input(\"Enter the size :\"))\n",
    "i = 0\n",
    "\n",
    "while i<size:\n",
    "    language = input(\"Enter the language :\")\n",
    "    number = int(input(\"Enter the number : \"))\n",
    "    data_set[language] = number \n",
    "    i = i+1\n",
    "    \n",
    "print (data_set)\n",
    "\n",
    "for key,value in data_set.items():\n",
    "    if value %2 == 0:\n",
    "        print(f\"{key}:{value}\")"
   ]
  },
  {
   "cell_type": "markdown",
   "id": "e986e464",
   "metadata": {},
   "source": [
    "Conclusion - creacted a dictionary of 4_keys and 4_values. and printed it.finally printed the data in dictionary where the key is even."
   ]
  },
  {
   "cell_type": "markdown",
   "id": "f1ca0fe6",
   "metadata": {},
   "source": [
    "# Task 8 - Population a dictionary data structure"
   ]
  },
  {
   "cell_type": "code",
   "execution_count": 15,
   "id": "76738aa7",
   "metadata": {},
   "outputs": [
    {
     "name": "stdout",
     "output_type": "stream",
     "text": [
      "1 : 1 , 2 : 4 , 3 : 9 , 4 : 16 , 5 : 25 , 6 : 36 , 7 : 49 , 8 : 64 , 9 : 81 , 10 : 100 , 11 : 121 , 12 : 144 , 13 : 169 , 14 : 196 , 15 : 225 , "
     ]
    }
   ],
   "source": [
    "D = {}\n",
    "\n",
    "for i in range (1,16):\n",
    "    D[i] = i*i\n",
    "    print(i ,\":\",i*i,\",\",end=\" \")\n"
   ]
  },
  {
   "cell_type": "code",
   "execution_count": 16,
   "id": "ee20c743",
   "metadata": {},
   "outputs": [
    {
     "name": "stdout",
     "output_type": "stream",
     "text": [
      "The new set after updating is {1: 1, 2: 4, 3: 9, 4: 16, 5: 25, 6: 36, 7: 49, 8: 64, 9: 81, 10: 100, 11: 121, 12: 144, 13: 169, 14: 196, 15: 225, 100: 10000}\n"
     ]
    }
   ],
   "source": [
    "D.update({100:10000})\n",
    "print(\"The new set after updating is\",D)"
   ]
  },
  {
   "cell_type": "markdown",
   "id": "cec61363",
   "metadata": {},
   "source": [
    "Conclusion - Created a dictionary by a value and its square for first 15 natural numbers . Then added {100;10000} into it."
   ]
  }
 ],
 "metadata": {
  "kernelspec": {
   "display_name": "Python 3 (ipykernel)",
   "language": "python",
   "name": "python3"
  },
  "language_info": {
   "codemirror_mode": {
    "name": "ipython",
    "version": 3
   },
   "file_extension": ".py",
   "mimetype": "text/x-python",
   "name": "python",
   "nbconvert_exporter": "python",
   "pygments_lexer": "ipython3",
   "version": "3.11.3"
  }
 },
 "nbformat": 4,
 "nbformat_minor": 5
}
