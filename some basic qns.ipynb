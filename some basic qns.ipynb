{
 "cells": [
  {
   "cell_type": "markdown",
   "id": "38cf0871",
   "metadata": {},
   "source": [
    "# Task 1 - Discusion making based on user input"
   ]
  },
  {
   "cell_type": "markdown",
   "id": "b4d877aa",
   "metadata": {},
   "source": [
    "## Accept a character from user. If the user enters 'A' then display \"Python\",'B' then display \"MySQL\",'C' then display \"Excel\" and if any other character display \"Holiday\""
   ]
  },
  {
   "cell_type": "code",
   "execution_count": 1,
   "id": "e31cbf0f",
   "metadata": {},
   "outputs": [
    {
     "name": "stdout",
     "output_type": "stream",
     "text": [
      "enter the character : G\n",
      "Holiday\n"
     ]
    }
   ],
   "source": [
    "character=input(\"enter the character : \")\n",
    "if character=='A':\n",
    "    print(\"Python\")\n",
    "elif character=='B':\n",
    "    print(\"MySQL\")\n",
    "elif character=='C':\n",
    "    print(\"Excel\")\n",
    "else:\n",
    "    print(\"Holiday\")"
   ]
  },
  {
   "cell_type": "markdown",
   "id": "b07ff8df",
   "metadata": {},
   "source": [
    "Conclusion - From this task if the user enters 'A' then display \"Python\",'B' then display \"MySQL\",'C' then display \"Excel\" and if any other character display \"Holiday\".so 'G' gives \"Holiday\"."
   ]
  },
  {
   "cell_type": "markdown",
   "id": "b5187bc8",
   "metadata": {},
   "source": [
    "# Task 2 - Comparing two numbers"
   ]
  },
  {
   "cell_type": "markdown",
   "id": "53808d2e",
   "metadata": {},
   "source": [
    "## Accept two numbers from the user and display the higher of two numbers "
   ]
  },
  {
   "cell_type": "code",
   "execution_count": 3,
   "id": "234c5113",
   "metadata": {},
   "outputs": [
    {
     "name": "stdout",
     "output_type": "stream",
     "text": [
      "enter the number A :12\n",
      "enter the number B :12\n",
      "Both are equal True\n"
     ]
    }
   ],
   "source": [
    "A=int(input(\"enter the number A :\"))\n",
    "B=int(input(\"enter the number B :\"))\n",
    "if A>B:\n",
    "    print(\"The highest number is \",A)\n",
    "elif B>A:\n",
    "    print(\"The highest number\",B)\n",
    "else:\n",
    "    print('Both are equal',A==B)"
   ]
  },
  {
   "cell_type": "markdown",
   "id": "c255d709",
   "metadata": {},
   "source": [
    "Conclusion - From the given code , the highest number among the two numbers given is identified."
   ]
  },
  {
   "cell_type": "markdown",
   "id": "af5f5380",
   "metadata": {},
   "source": [
    "# Task 3 - Calculating gross salary"
   ]
  },
  {
   "cell_type": "markdown",
   "id": "a1d43975",
   "metadata": {},
   "source": [
    "## Create a program that accepts basic salary as input and displays the annual gross salary."
   ]
  },
  {
   "cell_type": "code",
   "execution_count": 16,
   "id": "58d4ba36",
   "metadata": {},
   "outputs": [
    {
     "name": "stdout",
     "output_type": "stream",
     "text": [
      "Enter the salary :7000\n",
      "Annual gross salary : 100800.0\n"
     ]
    }
   ],
   "source": [
    "Basic_salary = float(input(\"Enter the salary :\"))\n",
    "if Basic_salary<4000:\n",
    "    hra=0.1*Basic_salary\n",
    "    ta=0.05*Basic_salary\n",
    "elif 4001 <= Basic_salary <=10000:\n",
    "    hra=0.1*Basic_salary\n",
    "    ta=0.1*Basic_salary\n",
    "else:\n",
    "    hra=0.15*Basic_salary\n",
    "    ta=0.15*Basic_salary\n",
    "    \n",
    "Annual_salary=(Basic_salary+hra+ta)*12\n",
    "print(\"Annual gross salary :\" ,Annual_salary)"
   ]
  },
  {
   "cell_type": "markdown",
   "id": "cc0e8000",
   "metadata": {},
   "source": [
    "Conclusion - From the code above,the Annual gross salary is found out but doing some mathematical calculations."
   ]
  },
  {
   "cell_type": "markdown",
   "id": "a9123982",
   "metadata": {},
   "source": [
    "# Task 4 - Searching a word in paragraph"
   ]
  },
  {
   "cell_type": "markdown",
   "id": "aa4beb10",
   "metadata": {},
   "source": [
    "## Accept a word from the user and check f the word exists in the variable var: Print YES if the word exists, else print NO."
   ]
  },
  {
   "cell_type": "code",
   "execution_count": 5,
   "id": "f6340ea0",
   "metadata": {},
   "outputs": [
    {
     "name": "stdout",
     "output_type": "stream",
     "text": [
      "enter the word : JAVA\n",
      "no\n"
     ]
    }
   ],
   "source": [
    "var = \"Python is an interpreted, high-level, general-purpose programming language. Its design philosophy emphasizes code readability, with its use  of significant indentation. Its language constructs as well as ts object-oriented approach aim to help programmers write clear, logical code for small and large-scale projects\"\n",
    "A=input(\"enter the word : \" )\n",
    "if (A in var):\n",
    "    print(\"yes\")\n",
    "else:\n",
    "    print(\"no\")"
   ]
  },
  {
   "cell_type": "markdown",
   "id": "6f0b379f",
   "metadata": {},
   "source": [
    "Conclusion - From the code if the given word exists in the variable var: Print YES if the word exists, else print NO."
   ]
  },
  {
   "cell_type": "markdown",
   "id": "b68300d8",
   "metadata": {},
   "source": [
    "# Task 5 - Checking if the character is Uppercase or Lowercase"
   ]
  },
  {
   "cell_type": "markdown",
   "id": "6a8a671b",
   "metadata": {},
   "source": [
    "## Accept an alphabet brom user.Display if the alphabet entered in uppercase or lowercase"
   ]
  },
  {
   "cell_type": "code",
   "execution_count": 1,
   "id": "6fb0a0b5",
   "metadata": {},
   "outputs": [
    {
     "name": "stdout",
     "output_type": "stream",
     "text": [
      "enter the Alphabet: S\n",
      "UPPERCASE\n"
     ]
    }
   ],
   "source": [
    "A=input(\"enter the Alphabet: \")\n",
    "if A.isupper():\n",
    "    print(\"UPPERCASE\")\n",
    "else:\n",
    "    print(\"LOWERCASE\")"
   ]
  },
  {
   "cell_type": "markdown",
   "id": "70bea3bb",
   "metadata": {},
   "source": [
    "Conclusion - From the above code , it found whether the alphabet entered is in uppercase or lowercase."
   ]
  },
  {
   "cell_type": "markdown",
   "id": "a64ad447",
   "metadata": {},
   "source": [
    "# Task 6 - Checking if a alphabet is a vowel or a consonant"
   ]
  },
  {
   "cell_type": "markdown",
   "id": "ee61abf8",
   "metadata": {},
   "source": [
    "## Accept an alphabet from the user.Display wheather the alphabet entered is a vowel or consonant"
   ]
  },
  {
   "cell_type": "code",
   "execution_count": 1,
   "id": "5580686c",
   "metadata": {},
   "outputs": [
    {
     "name": "stdout",
     "output_type": "stream",
     "text": [
      "enter the letter : g\n",
      "consonant\n"
     ]
    }
   ],
   "source": [
    "alphabet=input(\"enter the letter : \")\n",
    "if alphabet==('a','e','i','o','u','A','E','I','O','U'):\n",
    "    print(\"vowels\")\n",
    "else:\n",
    "    print(\"consonant\")"
   ]
  },
  {
   "cell_type": "markdown",
   "id": "350531c4",
   "metadata": {},
   "source": [
    "Conclusion - From the above code , it is found that wheather the alphabet entered is a vowel or consonant."
   ]
  }
 ],
 "metadata": {
  "kernelspec": {
   "display_name": "Python 3 (ipykernel)",
   "language": "python",
   "name": "python3"
  },
  "language_info": {
   "codemirror_mode": {
    "name": "ipython",
    "version": 3
   },
   "file_extension": ".py",
   "mimetype": "text/x-python",
   "name": "python",
   "nbconvert_exporter": "python",
   "pygments_lexer": "ipython3",
   "version": "3.11.3"
  }
 },
 "nbformat": 4,
 "nbformat_minor": 5
}
