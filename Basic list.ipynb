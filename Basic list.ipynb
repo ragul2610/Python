{
 "cells": [
  {
   "cell_type": "markdown",
   "id": "8b910eef",
   "metadata": {},
   "source": [
    "# Task 1 - Searching a List"
   ]
  },
  {
   "cell_type": "code",
   "execution_count": 6,
   "id": "3bb546b7",
   "metadata": {},
   "outputs": [
    {
     "name": "stdout",
     "output_type": "stream",
     "text": [
      "False\n"
     ]
    }
   ],
   "source": [
    "mynames = [\"Joe\",\"Zoe\",\"world\",\"Brad\",\"Aneglina\",\"world\",\"Zuki\",\"Tom\",\"Paris\",\"world\",\"magic\"]\n",
    "if \"USA\" in mynames:\n",
    "    PRINT(True)\n",
    "else:\n",
    "    print(False)"
   ]
  },
  {
   "cell_type": "markdown",
   "id": "648c262e",
   "metadata": {},
   "source": [
    "Conclusion - The output is false as \"USA\" is not present in mynames."
   ]
  },
  {
   "cell_type": "markdown",
   "id": "d3812b3a",
   "metadata": {},
   "source": [
    "# Task 2 - Frequency counts of elements in lists"
   ]
  },
  {
   "cell_type": "code",
   "execution_count": 6,
   "id": "34a91e9f",
   "metadata": {},
   "outputs": [
    {
     "name": "stdout",
     "output_type": "stream",
     "text": [
      "count of worlds : 3\n"
     ]
    }
   ],
   "source": [
    "mynames = [\"Joe\",\"Zoe\",\"world\",\"Brad\",\"Aneglina\",\"world\",\"Zuki\",\"Tom\",\"Paris\",\"world\",\"magic\"]\n",
    "count_of_world = mynames.count(\"world\")\n",
    "print(\"count of worlds :\",count_of_world)"
   ]
  },
  {
   "cell_type": "markdown",
   "id": "5efe4d74",
   "metadata": {},
   "source": [
    "Conclusion - From this we can found the count of world as 3. "
   ]
  },
  {
   "cell_type": "markdown",
   "id": "c55edbee",
   "metadata": {},
   "source": [
    "# Task 3 - Looping over a lists"
   ]
  },
  {
   "cell_type": "code",
   "execution_count": 60,
   "id": "6ace0115",
   "metadata": {},
   "outputs": [
    {
     "name": "stdout",
     "output_type": "stream",
     "text": [
      "Total even numbers: 14\n",
      "Total even numbers: 15\n"
     ]
    }
   ],
   "source": [
    "numlist=list(range(1,30))\n",
    "even_count = 0\n",
    "odd_count = 0\n",
    "\n",
    "for num in numlist:\n",
    "    if num % 2 ==0:\n",
    "        even_count += 1\n",
    "    else:\n",
    "        odd_count += 1\n",
    "print(\"Total even numbers:\",even_count)\n",
    "print(\"Total even numbers:\",odd_count)"
   ]
  },
  {
   "cell_type": "markdown",
   "id": "8722fb12",
   "metadata": {},
   "source": [
    "Conclusion - From this we found the number of even and odd numbers from 1 to 30. "
   ]
  },
  {
   "cell_type": "markdown",
   "id": "c42bc8f5",
   "metadata": {},
   "source": [
    "# Task 4 - Appending elements to a list"
   ]
  },
  {
   "cell_type": "code",
   "execution_count": 81,
   "id": "3c7232fd",
   "metadata": {},
   "outputs": [
    {
     "name": "stdout",
     "output_type": "stream",
     "text": [
      "2\n",
      "4\n",
      "6\n",
      "8\n",
      "10\n"
     ]
    }
   ],
   "source": [
    "numlist=list(range(1,30))\n",
    "for a in range(2,11,2):\n",
    "    print(a)"
   ]
  },
  {
   "cell_type": "code",
   "execution_count": null,
   "id": "cc50f237",
   "metadata": {},
   "outputs": [],
   "source": [
    "el=[]"
   ]
  },
  {
   "cell_type": "code",
   "execution_count": 68,
   "id": "a3f80f48",
   "metadata": {},
   "outputs": [
    {
     "data": {
      "text/plain": [
       "[]"
      ]
     },
     "execution_count": 68,
     "metadata": {},
     "output_type": "execute_result"
    }
   ],
   "source": [
    "el"
   ]
  },
  {
   "cell_type": "code",
   "execution_count": 69,
   "id": "cd2afba9",
   "metadata": {},
   "outputs": [],
   "source": [
    "el.append(2)"
   ]
  },
  {
   "cell_type": "code",
   "execution_count": 74,
   "id": "0a0ddfa0",
   "metadata": {},
   "outputs": [],
   "source": [
    "el.append(4)"
   ]
  },
  {
   "cell_type": "code",
   "execution_count": 75,
   "id": "6f902535",
   "metadata": {},
   "outputs": [],
   "source": [
    "el.append(6)"
   ]
  },
  {
   "cell_type": "code",
   "execution_count": 76,
   "id": "e11f0bdf",
   "metadata": {},
   "outputs": [],
   "source": [
    "el.append(8)"
   ]
  },
  {
   "cell_type": "code",
   "execution_count": 77,
   "id": "8959c4b0",
   "metadata": {},
   "outputs": [],
   "source": [
    "el.append(10)"
   ]
  },
  {
   "cell_type": "code",
   "execution_count": 78,
   "id": "c23f2a81",
   "metadata": {},
   "outputs": [
    {
     "data": {
      "text/plain": [
       "[2, 4, 6, 8, 10]"
      ]
     },
     "execution_count": 78,
     "metadata": {},
     "output_type": "execute_result"
    }
   ],
   "source": [
    "el"
   ]
  },
  {
   "cell_type": "markdown",
   "id": "8c936211",
   "metadata": {},
   "source": [
    "Conclusion - Appended the first five even numbers in a blank list. "
   ]
  },
  {
   "cell_type": "markdown",
   "id": "a9e5113b",
   "metadata": {},
   "source": [
    "# Task 5 - Arithematic operations on list"
   ]
  },
  {
   "cell_type": "code",
   "execution_count": 3,
   "id": "45d7cd57",
   "metadata": {},
   "outputs": [
    {
     "name": "stdout",
     "output_type": "stream",
     "text": [
      "1 3 5 7 9 11 13 15 17 19 21 23 25 27 29 "
     ]
    }
   ],
   "source": [
    "numlist=[range(1,30)]\n",
    "for num in range(1,30,2):\n",
    "    print(num,end=\" \")"
   ]
  },
  {
   "cell_type": "code",
   "execution_count": 4,
   "id": "f85965ac",
   "metadata": {},
   "outputs": [
    {
     "data": {
      "text/plain": [
       "[27, 29]"
      ]
     },
     "execution_count": 4,
     "metadata": {},
     "output_type": "execute_result"
    }
   ],
   "source": [
    "num =[1,3,5,7,9,11,13,15,17,19,21,23,25,27,29]\n",
    "num[-2:]"
   ]
  },
  {
   "cell_type": "markdown",
   "id": "1377708a",
   "metadata": {},
   "source": [
    "Conclusion - Found the last two odd number from the range of 1-30 "
   ]
  },
  {
   "cell_type": "markdown",
   "id": "93c151ad",
   "metadata": {},
   "source": [
    "# Task 6 - Appending two lists"
   ]
  },
  {
   "cell_type": "code",
   "execution_count": 1,
   "id": "0da8d9eb",
   "metadata": {},
   "outputs": [],
   "source": [
    "x=[]\n",
    "y=[]"
   ]
  },
  {
   "cell_type": "code",
   "execution_count": 2,
   "id": "21d4a845",
   "metadata": {},
   "outputs": [
    {
     "name": "stdout",
     "output_type": "stream",
     "text": [
      "enter the characters :A\n",
      "enter the characters :C\n",
      "enter the characters :S\n",
      "enter the characters :F\n",
      "enter the characters :R\n",
      "enter the number :1\n",
      "enter the number :2\n",
      "enter the number :3\n",
      "combined list of x and y : ['A', 'C', 'S', 'F', 'R', 1, 2, 3]\n"
     ]
    }
   ],
   "source": [
    "for i in range(5):\n",
    "    string=input(\"enter the characters :\")\n",
    "    x.append(string)\n",
    "\n",
    "for i in range(3):\n",
    "    num=int(input(\"enter the number :\"))\n",
    "    y.append(num)\n",
    "    \n",
    "x.extend(y)\n",
    "print(\"combined list of x and y :\",x)"
   ]
  },
  {
   "cell_type": "markdown",
   "id": "6898a1a1",
   "metadata": {},
   "source": [
    "Conclusion - Created a list of 5 strings and a new list of 3 integers.Combined both lists in a single lists."
   ]
  },
  {
   "cell_type": "markdown",
   "id": "6e3c1b3c",
   "metadata": {},
   "source": [
    "# Task 7 - Populating elements in a lists"
   ]
  },
  {
   "cell_type": "code",
   "execution_count": 5,
   "id": "11823ffe",
   "metadata": {},
   "outputs": [
    {
     "name": "stdout",
     "output_type": "stream",
     "text": [
      "List A : [1, 4, 9, 16, 25, 36, 49, 64, 81, 100]\n",
      "List B : [900, 961, 1024, 1089, 1156, 1225, 1296, 1369, 1444, 1521, 1600]\n"
     ]
    }
   ],
   "source": [
    "list_a=[i**2 for i in range(1,11)]\n",
    "list_b=[i**2 for i in range(30,41)]\n",
    "print(\"List A :\",list_a)\n",
    "print(\"List B :\",list_b)"
   ]
  },
  {
   "cell_type": "markdown",
   "id": "f98fef84",
   "metadata": {},
   "source": [
    "Conclusion - The squares of the numbers 1-10 and 30-40 are being found."
   ]
  },
  {
   "cell_type": "markdown",
   "id": "1f92269b",
   "metadata": {},
   "source": [
    "# Task 8 - Iterations in Python using \"FOR\" loop"
   ]
  },
  {
   "cell_type": "code",
   "execution_count": 7,
   "id": "de02d0bf",
   "metadata": {},
   "outputs": [
    {
     "name": "stdout",
     "output_type": "stream",
     "text": [
      "enter the number :6\n",
      "6 x 1 = 6\n",
      "6 x 2 = 12\n",
      "6 x 3 = 18\n",
      "6 x 4 = 24\n",
      "6 x 5 = 30\n",
      "6 x 6 = 36\n",
      "6 x 7 = 42\n",
      "6 x 8 = 48\n",
      "6 x 9 = 54\n",
      "6 x 10 = 60\n"
     ]
    }
   ],
   "source": [
    "num = int(input(\"enter the number :\"))\n",
    "for a in range(1,11):\n",
    "    print(num ,\"x\", a ,\"=\",num*a)"
   ]
  },
  {
   "cell_type": "markdown",
   "id": "a0f3c0cd",
   "metadata": {},
   "source": [
    "Conclusion - The multiplication table for the user input number is being found."
   ]
  }
 ],
 "metadata": {
  "kernelspec": {
   "display_name": "Python 3 (ipykernel)",
   "language": "python",
   "name": "python3"
  },
  "language_info": {
   "codemirror_mode": {
    "name": "ipython",
    "version": 3
   },
   "file_extension": ".py",
   "mimetype": "text/x-python",
   "name": "python",
   "nbconvert_exporter": "python",
   "pygments_lexer": "ipython3",
   "version": "3.11.3"
  }
 },
 "nbformat": 4,
 "nbformat_minor": 5
}
