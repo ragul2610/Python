{
 "cells": [
  {
   "cell_type": "markdown",
   "id": "abae623f",
   "metadata": {},
   "source": [
    "# Task 1 - Matt wants to wake up early in NYC to get used to the local time in France, prior to his travel. Help Matt to develop a python program that shows the current time in France when he enters local time in NYC as 22 hrs"
   ]
  },
  {
   "cell_type": "code",
   "execution_count": 4,
   "id": "393c9650",
   "metadata": {},
   "outputs": [
    {
     "name": "stdout",
     "output_type": "stream",
     "text": [
      "when time in 22 its 28 in France\n"
     ]
    }
   ],
   "source": [
    "NYC_Time = 22\n",
    "France_time = NYC_Time+6\n",
    "print(\"when time in\",NYC_Time,\"its\",France_time,\"in France\")"
   ]
  },
  {
   "cell_type": "markdown",
   "id": "28691a8b",
   "metadata": {},
   "source": [
    "# Task 2 - Matt wants to carry 500 Euros which he wants to get it from the local currency exchange agents in NYC. There is a 1.75% service charge for the currency exchange. How many dollars will Matt need to spend to get 500 Euros, including the 1.75% service charge?"
   ]
  },
  {
   "cell_type": "markdown",
   "id": "a135b236",
   "metadata": {},
   "source": [
    "## HINT : 1.1 Dollar = 1 Euro "
   ]
  },
  {
   "cell_type": "code",
   "execution_count": 3,
   "id": "6548bf2b",
   "metadata": {},
   "outputs": [
    {
     "name": "stdout",
     "output_type": "stream",
     "text": [
      "Matt need to spend$ 559.625 with dervice charge\n"
     ]
    }
   ],
   "source": [
    "Euros =500\n",
    "exchange_rate =1.1\n",
    "service_charge=1.75/100\n",
    "dollars=(Euros*exchange_rate)*(1+service_charge)\n",
    "print(\"Matt need to spend$\",dollars,\"with dervice charge\")"
   ]
  },
  {
   "cell_type": "markdown",
   "id": "202bd0f2",
   "metadata": {},
   "source": [
    "# Task 3 - Matt figures out that he will be spending approximately 20% more money in France in a month than what he spends in NYC. If he spends 4,000 per month (30 days) in NYC, how manydollars will Matt need for his 45-day trip to France?"
   ]
  },
  {
   "cell_type": "code",
   "execution_count": 5,
   "id": "6871388c",
   "metadata": {},
   "outputs": [
    {
     "name": "stdout",
     "output_type": "stream",
     "text": [
      "7200.0\n"
     ]
    }
   ],
   "source": [
    "# for 30 days :\n",
    "\n",
    "NYC_money=4000\n",
    "France_money=NYC_money + (4000/100)*20\n",
    "\n",
    "#france_money for 45 days:\n",
    "money_spent = France_money * 1.5\n",
    "print(money_spent)"
   ]
  },
  {
   "cell_type": "markdown",
   "id": "663599be",
   "metadata": {},
   "source": [
    "Conclusion - Matt will be spending $7200 in France for 45 days."
   ]
  },
  {
   "cell_type": "markdown",
   "id": "321437ae",
   "metadata": {},
   "source": [
    "# Task 4 - Matt wants to invest in stocks to help him earn some extra money for his trip to France. Matt invested in a certain stock that will yield 5% interest over a 1-month period, as mentioned by his investment agent. If Matt invests 20,000, what profit he will eam after 1 month?"
   ]
  },
  {
   "cell_type": "code",
   "execution_count": 9,
   "id": "4a0b6a4e",
   "metadata": {},
   "outputs": [
    {
     "name": "stdout",
     "output_type": "stream",
     "text": [
      "Matt get the profit of $ 1000.0\n",
      "The total amount Matt gets after 1 month in return is $ 21000.0\n"
     ]
    }
   ],
   "source": [
    "investment=20000\n",
    "interest=0.05\n",
    "profit=investment * interest\n",
    "amount=investment + (investment * interest)\n",
    "print(\"Matt get the profit of $\",profit)\n",
    "print(\"The total amount Matt gets after 1 month in return is $\",amount)"
   ]
  },
  {
   "cell_type": "markdown",
   "id": "851289fd",
   "metadata": {},
   "source": [
    "Conclusion - Matt gets the profit of $1000 after a month"
   ]
  },
  {
   "cell_type": "markdown",
   "id": "d7933e94",
   "metadata": {},
   "source": [
    "# Task 5 - Matt wants to practice walking long distances to help him explore tourist places in France. He figures out that, on average, an adventure seeking tourist in France walks around 12 Kilometres per day. Calculate the number of miles that Matt should practice walking per day, while he is in NYC................                                                         Note: 1 kilometre = 0.602 miles"
   ]
  },
  {
   "cell_type": "code",
   "execution_count": 10,
   "id": "9e28f4b0",
   "metadata": {},
   "outputs": [
    {
     "name": "stdout",
     "output_type": "stream",
     "text": [
      "Matt walks 7.224 miles a day in NYC\n"
     ]
    }
   ],
   "source": [
    "walking_a_day = 12 \n",
    "distance_in_miles = walking_a_day * 0.602\n",
    "print(\"Matt walks\",distance_in_miles,\"miles a day in NYC\")"
   ]
  },
  {
   "cell_type": "markdown",
   "id": "44ddbdc8",
   "metadata": {},
   "source": [
    "Conclusion - Matt walks around 7.224 miles a day in NYC."
   ]
  },
  {
   "cell_type": "markdown",
   "id": "d0bb42fb",
   "metadata": {},
   "source": [
    "# Task 6 - . . Tour de France bicycle race involves covering 3,328 kilometres approximately. Matt is curious to know how many laps an athlete  will have to complete in the bicycle training facility, if one lap in the practice track is 1.2 miles long."
   ]
  },
  {
   "cell_type": "code",
   "execution_count": 15,
   "id": "eb2e92bd",
   "metadata": {},
   "outputs": [
    {
     "name": "stdout",
     "output_type": "stream",
     "text": [
      "the total number of laps athelete will complete in track is 1669.5466666666666 laps\n"
     ]
    }
   ],
   "source": [
    "Kilometers = 3328\n",
    "Distance_in_miles = Kilometers * 0.602\n",
    "one_lap_in_miles = 1.2 \n",
    "total_laps_covered = Distance_in_miles / one_lap_in_miles\n",
    "print(\"the total number of laps athelete will complete in track is\",total_laps_covered,\"laps\")"
   ]
  },
  {
   "cell_type": "markdown",
   "id": "1931ec42",
   "metadata": {},
   "source": [
    "Conclusion - "
   ]
  },
  {
   "cell_type": "markdown",
   "id": "1c8118ef",
   "metadata": {},
   "source": [
    "# Task 7 - Matt figures out that an average athlete can complete one lap in the practice track in 2 minutes. If the athlete wants to take a 10- minute break after every 5 laps, needs a 1-hour lunch break, and does not want to ride the bicycle for more than 10 hours a day, how many days will the athlete need to complete the distance of 3,328 km?"
   ]
  },
  {
   "cell_type": "code",
   "execution_count": 30,
   "id": "748cc929",
   "metadata": {},
   "outputs": [
    {
     "name": "stdout",
     "output_type": "stream",
     "text": [
      "9 hrs after excluding the lunch\n",
      "4.5 hrs cycle a day negleting lunch and break\n",
      "270.0 minutes riding cycle a day\n",
      "135.0 laps for the 270 min\n",
      "162.0 miles a day\n",
      "269.1029900332226 kms a day\n",
      "It takes about 12.367012345679012 days for 3328 kms\n"
     ]
    }
   ],
   "source": [
    "one_lap = 2\n",
    "five_lap = 10\n",
    "total_hrs = 10 \n",
    "lunch_break = 1 \n",
    "remaining_hrs = total_hrs - lunch_break\n",
    "print (remaining_hrs,\"hrs after excluding the lunch\")\n",
    "\n",
    "#for ever 10 min cycling 10 min break...so cycling a day\n",
    "\n",
    "cycling_a_day = remaining_hrs / 2\n",
    "print(cycling_a_day,\"hrs cycle a day negleting lunch and break\")\n",
    "#hrs to minutes\n",
    "\n",
    "riding = 4.5 * 60\n",
    "print (riding,\"minutes riding cycle a day\")\n",
    "\n",
    "#if:\n",
    "\n",
    "one_lap = 2\n",
    "for_x_lap = 270\n",
    "for_270_min = 270 / 2\n",
    "print(for_270_min,\"laps for the 270 min\")\n",
    "\n",
    "#miles and kms\n",
    "per_lap = 1.2\n",
    "total_miles = for_270_min * per_lap\n",
    "print(total_miles,\"miles a day\")\n",
    "\n",
    "# 1km = 0.602 miles\n",
    "in_km = total_miles / 0.602\n",
    "print(in_km,\"kms a day\")\n",
    "\n",
    "#for 3328 kms it takes\n",
    "\n",
    "total_kms = 3328\n",
    "total_days = total_kms / in_km\n",
    "print(\"It takes about\",total_days,\"days for 3328 kms\")"
   ]
  },
  {
   "cell_type": "markdown",
   "id": "3d202050",
   "metadata": {},
   "source": [
    "Conclusion - It takes about 12 days for 3328 kms."
   ]
  },
  {
   "cell_type": "markdown",
   "id": "1b4d4cce",
   "metadata": {},
   "source": [
    "# Task 8 -  Matt wants to pick up some fresh grape juice from local stores in France. However, the bottle sizes are marked in 750 ml (millilitres) as opposed to ounces (oz) in the US. Help Matt calculate the number of bottles of grape juice he needs to buy for 2 weeks if he wants to drink 10 oz of juice every night."
   ]
  },
  {
   "cell_type": "code",
   "execution_count": 18,
   "id": "ba9467b0",
   "metadata": {},
   "outputs": [
    {
     "name": "stdout",
     "output_type": "stream",
     "text": [
      "Matt need 6.0 bottles of grape juice\n"
     ]
    }
   ],
   "source": [
    "bottle_size_in_US = 750\n",
    "Juice_in_oz = 750 / 30\n",
    "per_night = 10\n",
    "#2 weeks = 15 days\n",
    "juice_needed = per_night * 15\n",
    "total_bottles=juice_needed / Juice_in_oz\n",
    "print(\"Matt need\",total_bottles,\"bottles of grape juice\")"
   ]
  },
  {
   "cell_type": "markdown",
   "id": "2ba52e1f",
   "metadata": {},
   "source": [
    "Conclusion - Matt needs 6 bottles of grape juice for 2 weeks."
   ]
  }
 ],
 "metadata": {
  "kernelspec": {
   "display_name": "Python 3 (ipykernel)",
   "language": "python",
   "name": "python3"
  },
  "language_info": {
   "codemirror_mode": {
    "name": "ipython",
    "version": 3
   },
   "file_extension": ".py",
   "mimetype": "text/x-python",
   "name": "python",
   "nbconvert_exporter": "python",
   "pygments_lexer": "ipython3",
   "version": "3.11.3"
  }
 },
 "nbformat": 4,
 "nbformat_minor": 5
}
